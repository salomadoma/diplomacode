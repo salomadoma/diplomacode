{
 "cells": [
  {
   "cell_type": "code",
   "id": "initial_id",
   "metadata": {
    "collapsed": true,
    "ExecuteTime": {
     "end_time": "2025-05-25T17:29:26.988955Z",
     "start_time": "2025-05-25T17:29:26.978456Z"
    }
   },
   "source": [
    "import pandas as pd\n",
    "\n",
    "df_clean = pd.read_csv(\"data/df_clean.csv\")\n",
    "df_clean.info()"
   ],
   "outputs": [],
   "execution_count": 1
  },
  {
   "metadata": {},
   "cell_type": "code",
   "outputs": [],
   "execution_count": null,
   "source": [
    "import seaborn as sns\n",
    "import matplotlib.pyplot as plt\n",
    "import numpy as np\n",
    "from sklearn.metrics.pairwise import cosine_similarity\n",
    "import ace_tools as tools\n",
    "\n",
    "emotion_columns = [\"happiness\", \"sadness\", \"anger\", \"fear\", \"disgust\", \"surprise\"]\n",
    "correlation_matrix = df_clean[emotion_columns + [\"rating\"]].corr()\n",
    "\n",
    "df_clean[\"rating_level\"] = pd.cut(df_clean[\"rating\"], bins=[0, 5, 7, 10], labels=[\"низкий\", \"средний\", \"высокий\"])\n",
    "emotion_means_by_rating = df_clean.groupby(\"rating_level\")[emotion_columns].mean()\n",
    "\n",
    "\n",
    "tools.display_dataframe_to_user(name=\"Корреляция эмоций и рейтинга\", dataframe=correlation_matrix)\n",
    "tools.display_dataframe_to_user(name=\"Средние эмоции по уровням рейтинга\", dataframe=emotion_means_by_rating)"
   ],
   "id": "b93f780e5973384c"
  }
 ],
 "metadata": {
  "kernelspec": {
   "display_name": "Python 3",
   "language": "python",
   "name": "python3"
  },
  "language_info": {
   "codemirror_mode": {
    "name": "ipython",
    "version": 2
   },
   "file_extension": ".py",
   "mimetype": "text/x-python",
   "name": "python",
   "nbconvert_exporter": "python",
   "pygments_lexer": "ipython2",
   "version": "2.7.6"
  }
 },
 "nbformat": 4,
 "nbformat_minor": 5
}

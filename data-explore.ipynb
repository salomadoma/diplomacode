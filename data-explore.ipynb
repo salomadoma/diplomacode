{
 "cells": [
  {
   "cell_type": "code",
   "id": "initial_id",
   "metadata": {
    "collapsed": true,
    "ExecuteTime": {
     "end_time": "2025-05-25T17:53:32.875706Z",
     "start_time": "2025-05-25T17:53:30.962675Z"
    }
   },
   "source": [
    "import pandas as pd\n",
    "df = pd.read_csv(r'C:\\Users\\User\\Desktop\\4_course\\diploma_data\\diploma_tables\\table_fin.csv', sep=';', encoding='utf-8', on_bad_lines='skip')\n",
    "print(df.head())\n"
   ],
   "outputs": [
    {
     "name": "stdout",
     "output_type": "stream",
     "text": [
      "  StoryID    Название рассказа  Общая оценка  Счастье  Грусть  Отвращение  \\\n",
      "0    P306           «На краях»             6        0       0           1   \n",
      "1    P381       «Чужая собака»             6        0       2           0   \n",
      "2    P528   «История Клариссы»             3        0       0           1   \n",
      "3    P530       «Анна и Мария»             6        0       1           0   \n",
      "4    P539  «Куманьково болото»             9        2       1           1   \n",
      "\n",
      "   Удивление  Гнев  Страх  \n",
      "0          0     1      0  \n",
      "1          1     0      0  \n",
      "2          0     0      0  \n",
      "3          2     0      0  \n",
      "4          2     2      0  \n"
     ]
    }
   ],
   "execution_count": 1
  },
  {
   "metadata": {
    "ExecuteTime": {
     "end_time": "2025-05-25T17:53:35.820216Z",
     "start_time": "2025-05-25T17:53:35.799666Z"
    }
   },
   "cell_type": "code",
   "source": [
    "df.columns = df.columns.str.strip()\n",
    "df.rename(columns={'Название рассказа': 'title','Общая оценка': 'rating','Счастье': 'happiness','Грусть': 'sadness','Отвращение': 'disgust','Удивление': 'surprise','Гнев': 'anger','Страх': 'fear'}, inplace=True)\n",
    "print(df.head())"
   ],
   "id": "6fe1d98ba8d012fe",
   "outputs": [
    {
     "name": "stdout",
     "output_type": "stream",
     "text": [
      "  StoryID                title  rating  happiness  sadness  disgust  surprise  \\\n",
      "0    P306           «На краях»       6          0        0        1         0   \n",
      "1    P381       «Чужая собака»       6          0        2        0         1   \n",
      "2    P528   «История Клариссы»       3          0        0        1         0   \n",
      "3    P530       «Анна и Мария»       6          0        1        0         2   \n",
      "4    P539  «Куманьково болото»       9          2        1        1         2   \n",
      "\n",
      "   anger  fear  \n",
      "0      1     0  \n",
      "1      0     0  \n",
      "2      0     0  \n",
      "3      0     0  \n",
      "4      2     0  \n"
     ]
    }
   ],
   "execution_count": 2
  },
  {
   "metadata": {
    "ExecuteTime": {
     "end_time": "2025-05-25T17:53:37.597853Z",
     "start_time": "2025-05-25T17:53:37.579794Z"
    }
   },
   "cell_type": "code",
   "source": [
    "df.rename(columns={\n",
    "    'StoryID': 'story_id',\n",
    "    'Название рассказа': 'title',\n",
    "    'Общая оценка': 'rating',\n",
    "    'Счастье': 'happiness',\n",
    "    'Грусть': 'sadness',\n",
    "    'Отвращение': 'disgust',\n",
    "    'Удивление': 'surprise',\n",
    "    'Гнев': 'anger',\n",
    "    'Страх': 'fear'\n",
    "}, inplace=True)\n",
    "print(df.head())\n",
    "print(df.columns.tolist())"
   ],
   "id": "66ed707163232d24",
   "outputs": [
    {
     "name": "stdout",
     "output_type": "stream",
     "text": [
      "  story_id                title  rating  happiness  sadness  disgust  \\\n",
      "0     P306           «На краях»       6          0        0        1   \n",
      "1     P381       «Чужая собака»       6          0        2        0   \n",
      "2     P528   «История Клариссы»       3          0        0        1   \n",
      "3     P530       «Анна и Мария»       6          0        1        0   \n",
      "4     P539  «Куманьково болото»       9          2        1        1   \n",
      "\n",
      "   surprise  anger  fear  \n",
      "0         0      1     0  \n",
      "1         1      0     0  \n",
      "2         0      0     0  \n",
      "3         2      0     0  \n",
      "4         2      2     0  \n",
      "['story_id', 'title', 'rating', 'happiness', 'sadness', 'disgust', 'surprise', 'anger', 'fear']\n"
     ]
    }
   ],
   "execution_count": 3
  },
  {
   "metadata": {
    "ExecuteTime": {
     "end_time": "2025-05-25T17:53:40.194454Z",
     "start_time": "2025-05-25T17:53:40.128379Z"
    }
   },
   "cell_type": "code",
   "source": [
    "import os\n",
    "\n",
    "texts_folder = r'C:\\Users\\User\\Desktop\\data_txt'\n",
    "all_files = os.listdir(texts_folder)\n",
    "print(all_files[:10])"
   ],
   "id": "62030a9786cd7d83",
   "outputs": [
    {
     "name": "stdout",
     "output_type": "stream",
     "text": [
      "['A784_Кржижановский_Разговор_двух_разговоров.txt', 'P242_Куранов_Дни сентября.txt', 'P24_Аношкин_Однажды вечером.txt', 'P258_Тендряков_Письмо_,_запоздавшее_на_двадцать_лет.txt', 'P285_Шавкута_Коля_Большой_и_Коля_Маленький.txt', 'P301_Астафьев_Мною_рожденный.txt', 'P306_Солженицын_На_Краях.txt', 'P309_Искандер_Начало.txt', 'P311_Дубровский_Поражение_Геракла.txt', 'P318_Анчаров_Корабли.txt']\n"
     ]
    }
   ],
   "execution_count": 4
  },
  {
   "metadata": {
    "ExecuteTime": {
     "end_time": "2025-05-25T17:53:41.790322Z",
     "start_time": "2025-05-25T17:53:41.779851Z"
    }
   },
   "cell_type": "code",
   "source": "all_files = [f for f in all_files if f.endswith('.txt')]",
   "id": "2332fc0de9d14186",
   "outputs": [],
   "execution_count": 5
  },
  {
   "metadata": {
    "ExecuteTime": {
     "end_time": "2025-05-25T17:53:43.251167Z",
     "start_time": "2025-05-25T17:53:43.244414Z"
    }
   },
   "cell_type": "code",
   "source": [
    "def find_matching_file(title, files):\n",
    "    title_clean = title.replace('«', '').replace('»', '').strip().lower()\n",
    "    for f in files:\n",
    "        if title_clean in f.lower():\n",
    "            return f\n",
    "    return None"
   ],
   "id": "a94485f70dc34a17",
   "outputs": [],
   "execution_count": 6
  },
  {
   "metadata": {
    "ExecuteTime": {
     "end_time": "2025-05-25T17:53:53.925751Z",
     "start_time": "2025-05-25T17:53:44.630680Z"
    }
   },
   "cell_type": "code",
   "source": [
    "def load_text(filename):\n",
    "    if filename:\n",
    "        path = os.path.join(texts_folder, filename)\n",
    "        try:\n",
    "            with open(path, 'r', encoding='utf-8') as file:\n",
    "                return file.read()\n",
    "        except:\n",
    "            return None\n",
    "    return None\n",
    "df['filename'] = df['title'].apply(lambda x: find_matching_file(x, all_files))\n",
    "df['text'] = df['filename'].apply(load_text)"
   ],
   "id": "3599655ee20c7f26",
   "outputs": [],
   "execution_count": 7
  },
  {
   "metadata": {
    "ExecuteTime": {
     "end_time": "2025-05-25T17:54:35.244745Z",
     "start_time": "2025-05-25T17:54:35.209214Z"
    }
   },
   "cell_type": "code",
   "source": [
    "print(df[['title', 'filename']].head(10))\n",
    "print(df['text'].apply(lambda x: len(x) if x else 0).describe())"
   ],
   "id": "2455a698ec374156",
   "outputs": [
    {
     "name": "stdout",
     "output_type": "stream",
     "text": [
      "                  title filename\n",
      "0            «На краях»     None\n",
      "1        «Чужая собака»     None\n",
      "2    «История Клариссы»     None\n",
      "3        «Анна и Мария»     None\n",
      "4   «Куманьково болото»     None\n",
      "5     «Фотькина любовь»     None\n",
      "6    «Подарки Пришвина»     None\n",
      "7  «Бриллиантовая зима»     None\n",
      "8   «Плата за мужество»     None\n",
      "9   «Поражение Геракла»     None\n",
      "count       736.000000\n",
      "mean      22898.142663\n",
      "std       33999.372882\n",
      "min           0.000000\n",
      "25%        6518.750000\n",
      "50%       16158.000000\n",
      "75%       29926.000000\n",
      "max      596857.000000\n",
      "Name: text, dtype: float64\n"
     ]
    }
   ],
   "execution_count": 8
  },
  {
   "metadata": {
    "ExecuteTime": {
     "end_time": "2025-05-25T17:54:36.840374Z",
     "start_time": "2025-05-25T17:54:36.827545Z"
    }
   },
   "cell_type": "code",
   "source": [
    "import re\n",
    "\n",
    "def clean_title(text):\n",
    "    text = re.sub(r'[«»\"\\'.,!?;:()\\[\\]]', '', text)\n",
    "    return text.strip().lower()\n",
    "\n",
    "def find_matching_file(title, files):\n",
    "    cleaned_title = clean_title(title)\n",
    "    for f in files:\n",
    "        if cleaned_title in clean_title(f):\n",
    "            return f\n",
    "    return None"
   ],
   "id": "e9e16699fb146828",
   "outputs": [],
   "execution_count": 9
  },
  {
   "metadata": {
    "ExecuteTime": {
     "end_time": "2025-05-25T17:54:40.759525Z",
     "start_time": "2025-05-25T17:54:39.500260Z"
    }
   },
   "cell_type": "code",
   "source": [
    "df['filename'] = df['title'].apply(lambda x: find_matching_file(x, all_files))\n",
    "df['text'] = df['filename'].apply(load_text)\n",
    "print(df[['title', 'filename']].head(10))\n",
    "print(df['text'].apply(lambda x: len(x) if x else 0).describe())"
   ],
   "id": "1c512fc2b98a8a87",
   "outputs": [
    {
     "name": "stdout",
     "output_type": "stream",
     "text": [
      "                  title filename\n",
      "0            «На краях»     None\n",
      "1        «Чужая собака»     None\n",
      "2    «История Клариссы»     None\n",
      "3        «Анна и Мария»     None\n",
      "4   «Куманьково болото»     None\n",
      "5     «Фотькина любовь»     None\n",
      "6    «Подарки Пришвина»     None\n",
      "7  «Бриллиантовая зима»     None\n",
      "8   «Плата за мужество»     None\n",
      "9   «Поражение Геракла»     None\n",
      "count       736.000000\n",
      "mean      23172.565217\n",
      "std       34188.574873\n",
      "min           0.000000\n",
      "25%        6756.000000\n",
      "50%       16344.500000\n",
      "75%       29968.500000\n",
      "max      596857.000000\n",
      "Name: text, dtype: float64\n"
     ]
    }
   ],
   "execution_count": 10
  },
  {
   "metadata": {
    "ExecuteTime": {
     "end_time": "2025-05-25T17:54:42.556128Z",
     "start_time": "2025-05-25T17:54:42.543285Z"
    }
   },
   "cell_type": "code",
   "source": [
    "import difflib\n",
    "\n",
    "def find_closest_match(title, files):\n",
    "    # Очищаем заголовок и преобразуем его в нижний регистр\n",
    "    cleaned_title = clean_title(title)\n",
    "    # Сравниваем заголовок с каждым файлом в папке, ищем наиболее похожее название\n",
    "    matches = difflib.get_close_matches(cleaned_title, files, n=1, cutoff=0.6)  # n=1 для 1 наиболее близкого совпадения, cutoff — порог\n",
    "    return matches[0] if matches else None"
   ],
   "id": "e5a01836a76279a8",
   "outputs": [],
   "execution_count": 11
  },
  {
   "metadata": {
    "ExecuteTime": {
     "end_time": "2025-05-25T17:55:20.018179Z",
     "start_time": "2025-05-25T17:55:17.063992Z"
    }
   },
   "cell_type": "code",
   "source": [
    "df['filename'] = df['title'].apply(lambda x: find_closest_match(x, all_files))\n",
    "df['text'] = df['filename'].apply(load_text)"
   ],
   "id": "2d06decc27585c06",
   "outputs": [],
   "execution_count": 12
  },
  {
   "metadata": {
    "ExecuteTime": {
     "end_time": "2025-05-25T17:55:23.953074Z",
     "start_time": "2025-05-25T17:55:23.933065Z"
    }
   },
   "cell_type": "code",
   "source": [
    "print(df[['title', 'filename']].head(10))\n",
    "print(df['text'].apply(lambda x: len(x) if x else 0).describe())"
   ],
   "id": "bc26e05bbf8132fd",
   "outputs": [
    {
     "name": "stdout",
     "output_type": "stream",
     "text": [
      "                  title                             filename\n",
      "0            «На краях»                                 None\n",
      "1        «Чужая собака»                                 None\n",
      "2    «История Клариссы»                                 None\n",
      "3        «Анна и Мария»                                 None\n",
      "4   «Куманьково болото»  P539_Пьянкова_Куманьково_болото.txt\n",
      "5     «Фотькина любовь»                                 None\n",
      "6    «Подарки Пришвина»                                 None\n",
      "7  «Бриллиантовая зима»                                 None\n",
      "8   «Плата за мужество»                                 None\n",
      "9   «Поражение Геракла»                                 None\n",
      "count       736.000000\n",
      "mean       5194.388587\n",
      "std       17420.814043\n",
      "min           0.000000\n",
      "25%           0.000000\n",
      "50%           0.000000\n",
      "75%           0.000000\n",
      "max      312488.000000\n",
      "Name: text, dtype: float64\n"
     ]
    }
   ],
   "execution_count": 13
  },
  {
   "metadata": {
    "ExecuteTime": {
     "end_time": "2025-05-25T17:55:27.384802Z",
     "start_time": "2025-05-25T17:55:27.375684Z"
    }
   },
   "cell_type": "code",
   "source": [
    "def find_closest_match(title, files, cutoff=0.5):  # Понижаем порог похожести\n",
    "    cleaned_title = clean_title(title)\n",
    "    matches = difflib.get_close_matches(cleaned_title, files, n=1, cutoff=cutoff)\n",
    "    return matches[0] if matches else None"
   ],
   "id": "deda4e736e0abb58",
   "outputs": [],
   "execution_count": 14
  },
  {
   "metadata": {
    "ExecuteTime": {
     "end_time": "2025-05-25T17:55:35.484042Z",
     "start_time": "2025-05-25T17:55:28.683948Z"
    }
   },
   "cell_type": "code",
   "source": [
    "df['filename'] = df['title'].apply(lambda x: find_closest_match(x, all_files, cutoff=0.5))\n",
    "df['text'] = df['filename'].apply(load_text)"
   ],
   "id": "767c7d6978844502",
   "outputs": [],
   "execution_count": 15
  },
  {
   "metadata": {
    "ExecuteTime": {
     "end_time": "2025-05-25T17:55:47.626629Z",
     "start_time": "2025-05-25T17:55:47.608520Z"
    }
   },
   "cell_type": "code",
   "source": [
    "print(df[['title', 'filename']].head(10))\n",
    "print(df['text'].apply(lambda x: len(x) if x else 0).describe())"
   ],
   "id": "1efcd695fe51416d",
   "outputs": [
    {
     "name": "stdout",
     "output_type": "stream",
     "text": [
      "                  title                                filename\n",
      "0            «На краях»                                    None\n",
      "1        «Чужая собака»                                    None\n",
      "2    «История Клариссы»                                    None\n",
      "3        «Анна и Мария»                                    None\n",
      "4   «Куманьково болото»     P539_Пьянкова_Куманьково_болото.txt\n",
      "5     «Фотькина любовь»        P379_Шушарин_Фотькина_любовь.txt\n",
      "6    «Подарки Пришвина»          P356_Яшин_Подарки_Пришвина.txt\n",
      "7  «Бриллиантовая зима»  P486_Ольшанский_Бриллиантовая_зима.txt\n",
      "8   «Плата за мужество»      P366_Смирнов_Плата_за_мужество.txt\n",
      "9   «Поражение Геракла»   P311_Дубровский_Поражение_Геракла.txt\n",
      "count       736.000000\n",
      "mean      14481.210598\n",
      "std       32958.143144\n",
      "min           0.000000\n",
      "25%           0.000000\n",
      "50%           0.000000\n",
      "75%       20169.250000\n",
      "max      596857.000000\n",
      "Name: text, dtype: float64\n"
     ]
    }
   ],
   "execution_count": 16
  },
  {
   "metadata": {
    "ExecuteTime": {
     "end_time": "2025-05-25T17:56:07.056720Z",
     "start_time": "2025-05-25T17:55:51.010829Z"
    }
   },
   "cell_type": "code",
   "source": [
    "def find_closest_match(title, files, cutoff=0.4):\n",
    "    cleaned_title = clean_title(title)\n",
    "    matches = difflib.get_close_matches(cleaned_title, files, n=1, cutoff=cutoff)\n",
    "    return matches[0] if matches else None\n",
    "\n",
    "df['filename'] = df['title'].apply(lambda x: find_closest_match(x, all_files, cutoff=0.4))\n",
    "df['text'] = df['filename'].apply(load_text)"
   ],
   "id": "ae1753401f914ccb",
   "outputs": [],
   "execution_count": 17
  },
  {
   "metadata": {
    "ExecuteTime": {
     "end_time": "2025-05-25T17:56:11.249726Z",
     "start_time": "2025-05-25T17:56:11.226733Z"
    }
   },
   "cell_type": "code",
   "source": [
    "print(df[['title', 'filename']].head(10))\n",
    "print(df['text'].apply(lambda x: len(x) if x else 0).describe())\n"
   ],
   "id": "c2b3c622b2822b4f",
   "outputs": [
    {
     "name": "stdout",
     "output_type": "stream",
     "text": [
      "                  title                                filename\n",
      "0            «На краях»                    Панова Вера_Валя.txt\n",
      "1        «Чужая собака»         P381_Насущенко_Чужая_собака.txt\n",
      "2    «История Клариссы»  P528_Петрушевская_История_Клариссы.txt\n",
      "3        «Анна и Мария»                  Ганина_В гастролях.txt\n",
      "4   «Куманьково болото»     P539_Пьянкова_Куманьково_болото.txt\n",
      "5     «Фотькина любовь»        P379_Шушарин_Фотькина_любовь.txt\n",
      "6    «Подарки Пришвина»          P356_Яшин_Подарки_Пришвина.txt\n",
      "7  «Бриллиантовая зима»  P486_Ольшанский_Бриллиантовая_зима.txt\n",
      "8   «Плата за мужество»      P366_Смирнов_Плата_за_мужество.txt\n",
      "9   «Поражение Геракла»   P311_Дубровский_Поражение_Геракла.txt\n",
      "count       736.000000\n",
      "mean      22611.811141\n",
      "std       34986.746060\n",
      "min           0.000000\n",
      "25%           0.000000\n",
      "50%       14759.500000\n",
      "75%       30918.750000\n",
      "max      596857.000000\n",
      "Name: text, dtype: float64\n"
     ]
    }
   ],
   "execution_count": 18
  },
  {
   "metadata": {
    "ExecuteTime": {
     "end_time": "2025-05-25T17:56:13.100773Z",
     "start_time": "2025-05-25T17:56:13.091596Z"
    }
   },
   "cell_type": "code",
   "source": [
    "missing_count = df['filename'].isnull().sum()\n",
    "print(f\"Не найдено файлов для {missing_count} рассказов из {len(df)}\")"
   ],
   "id": "1b2a868f3378ac79",
   "outputs": [
    {
     "name": "stdout",
     "output_type": "stream",
     "text": [
      "Не найдено файлов для 193 рассказов из 736\n"
     ]
    }
   ],
   "execution_count": 19
  },
  {
   "metadata": {
    "ExecuteTime": {
     "end_time": "2025-05-25T17:56:15.019364Z",
     "start_time": "2025-05-25T17:56:14.985398Z"
    }
   },
   "cell_type": "code",
   "source": [
    "no_match_df = df[df['filename'].isnull()]\n",
    "no_match_df[['story_id', 'title']].to_csv('unmatched_titles.csv', index=False)"
   ],
   "id": "9e1c600ac339794c",
   "outputs": [],
   "execution_count": 20
  },
  {
   "metadata": {
    "ExecuteTime": {
     "end_time": "2025-05-25T17:56:17.134273Z",
     "start_time": "2025-05-25T17:56:16.522636Z"
    }
   },
   "cell_type": "code",
   "source": "df.to_csv('matched_texts.csv', index=False)",
   "id": "52bcaca2658caf87",
   "outputs": [],
   "execution_count": 21
  },
  {
   "metadata": {
    "ExecuteTime": {
     "end_time": "2025-05-25T17:56:22.866563Z",
     "start_time": "2025-05-25T17:56:22.754512Z"
    }
   },
   "cell_type": "code",
   "source": [
    "for i, row in df.iterrows():\n",
    "    if row['filename'] is not None and clean_title(row['title']) not in clean_title(row['filename']):\n",
    "        print(f\"{row['title']} --> {row['filename']}\")"
   ],
   "id": "6e51c964686e2883",
   "outputs": [
    {
     "name": "stdout",
     "output_type": "stream",
     "text": [
      "«На краях» --> Панова Вера_Валя.txt\n",
      "«Чужая собака» --> P381_Насущенко_Чужая_собака.txt\n",
      "«История Клариссы» --> P528_Петрушевская_История_Клариссы.txt\n",
      "«Анна и Мария» --> Ганина_В гастролях.txt\n",
      "«Куманьково болото» --> P539_Пьянкова_Куманьково_болото.txt\n",
      "«Фотькина любовь» --> P379_Шушарин_Фотькина_любовь.txt\n",
      "«Подарки Пришвина» --> P356_Яшин_Подарки_Пришвина.txt\n",
      "«Бриллиантовая зима» --> P486_Ольшанский_Бриллиантовая_зима.txt\n",
      "«Плата за мужество» --> P366_Смирнов_Плата_за_мужество.txt\n",
      "«Поражение Геракла» --> P311_Дубровский_Поражение_Геракла.txt\n",
      "«Только одна смерть» --> Р332_Домбровский_Только_одна_смерть.txt\n",
      "«Невский проспект» --> P403_Ганичев_Невский_проспект.txt\n",
      "«Любовь к Паганини» --> Р411_Медведев_Любовь_к_Паганини.txt\n",
      "«Новый район» --> P529_Петрушевская_Новый_район.txt\n",
      "«Рассказ о трех хулиганах» --> P497_Самохин_Рассказ_о_трех_хулиганах.txt\n",
      "«Книги мёртвых» --> Р448_Геворкян_Книги_мёртвых.txt\n",
      "«Гибель „Вирджинии“» --> Р611_Баковиков_Гибель_Вирджинии.txt\n",
      "«О свойствах льда» --> Р389_Корабельников_О_свойствах_льда.txt\n",
      "«Стол Рентгена» --> Р386_Корабельников_Стол_Рентгена.txt\n",
      "«Прощание с Землей» --> P487_Сбитнев_Прощание_с_Землей.txt\n",
      "«Посещение Марка Шагала» --> P573_Трифонов_Посещение_Марка_Шагала.txt\n",
      "«И всю ночь ныла грудь» --> P474_Гулия_И_всю_ночь_ныла_грудь.txt\n",
      "«Первый медведь» --> P605_Перегудов_Первый_медведь.txt\n",
      "«Ночной поиск» --> P671_ Сурков_Ночной_поиск.txt\n",
      "«Коля Большой и Коля Маленький» --> P285_Шавкута_Коля_Большой_и_Коля_Маленький.txt\n",
      "«В изоляторе» --> Р633_Воронская_В_изоляторе.txt\n",
      "«Гравюра пана Россальского» --> Р624_Солоухин_Гравюра_пана_Россальского.txt\n",
      "«Особо секретное задание» --> P376_Ким_Особо_секретное_задание.txt\n",
      "«Прасковья Логинова» --> P666_Кононов_Прасковья_Логинова.txt\n",
      "«Дальний поиск» --> Р642_Пугач_Дальний_поиск.txt\n",
      "«Сто двадцать секунд» --> P661_Асанов_Сто_двадцать_секунд.txt\n",
      "«Тихон Колобухин» --> Р627_Можаев_Тихон_Колобухин.txt\n",
      "«Мезозойская история» --> Р534_Хлумов_Мезозойская_История.txt\n",
      "«Осенний человек» --> Р557_Белов_Осенний_человек.txt\n",
      "«Разговор в кафе» --> Р594_Сапарин_Разговор_в_кафе.txt\n",
      "«В сторону солнца» --> Р634_Володин_В_сторону_солнца.txt\n",
      "«Рассказ о пользе молока» --> Р314_Попов_Рассказ_о_пользе_молока.txt\n",
      "«Сады пятнистого оленя» --> Р604_Оттен_Сады_пятнистого_оленя.txt\n",
      "«Зеркало времени» --> Р418_Медведев_Зеркало_времени.txt\n",
      "«Яко Вертоград во цветении» --> Р419_Медведев_Яко_Вертоград_во_цветении.txt\n",
      "«В штормовую погоду» --> Р614_Дмитриев_В_штормовую_погоду.txt\n",
      "«Соломеины голуби» --> Р434_Юровских_Соломеины_голуби.txt\n",
      "«Доктор Красильников» --> Р620_Туренская_Доктор_Красильников.txt\n",
      "«За отсутсвием события» --> Р452_Хургин_За_отсутсвием_события.txt\n",
      "«Черная болезнь» --> P662_Берберова_Черная_болезнь.txt\n",
      "«Дорога на станцию» --> Р450_Хазанов_Дорога_на_станцию.txt\n",
      "«Унылая пора» --> Р501_Самохин _Унылая_пора.txt\n",
      "«Волшебный хмель» --> Р472_Чернолусский_Волшебный_хмель.txt\n",
      "«Завтрак во время обеда» --> Р649_Погодин_Завтрак_во_время_обеда.txt\n",
      "«Создан для бури» --> Р422_Альтов_Создан_для_бури.txt\n",
      "«Мелкие разногласия» --> Р384_Фотьев_Мелкие_разногласия.txt\n",
      " «Конец жанра» --> Р469_Кривин_Конец_жанра.txt\n",
      "«Это был не Дантес...» --> Р468_Кривин_Это_был_не_Дантес.txt\n",
      "«Бутылка писем» --> Р467_Кондратьев_Бутылка_писем.txt\n",
      "«Старые гусиные перья (Под скрип гусиных перьев)» --> Р516_Пикуль_Старые_гусиные_перья.txt\n",
      "«Тахана  мерказит» --> P464_Каледин_Тахана_мерказит.txt\n",
      "«Давление жизни» --> P596_Биленкин_Давление_жизни.txt\n",
      "«Потомок Джима» --> Р583_Абрамов_Потомок_Джима.txt\n",
      "«Два разговора Алены с Богом» --> Р587_Резанова_Два_разговора_Алены_с_Богом.txt\n",
      "«Ходовые испытания» --> Р595_Тупицын_Ходовые_испытания.txt\n",
      "«Александр Гогоберидзе» --> Р525_Шаламов_Александр_Гогоберидзе.txt\n",
      "Письмо, запоздавшее на двадцать лет --> P258_Тендряков_Письмо_,_запоздавшее_на_двадцать_лет.txt\n",
      "Темное дело, или о значении очистительного пути --> Р592_Пьецух_Темное_дело_,_или_О_значении_очистительного_пути.txt\n",
      "За рекой далекой --> Р603_Ревунов_За_рекой_далекой.txt\n",
      "Грубиян Валахов --> Р641_Евдокимов_Грубиян_Валахов.txt\n",
      "Индия, любовь моя --> Р531_Мелентьев_Индия_,_любовь_моя.txt\n",
      "От прощания до встречи --> P380_Шкаев_От_прощания_до_встречи.txt\n",
      "Мальчик со спичками --> P428_Садур_Мальчик_со_спичками.txt\n",
      "Мною рожденный --> P301_Астафьев_Мною_рожденный.txt\n",
      "Разговор двух разговоров --> A784_Кржижановский_Разговор_двух_разговоров.txt\n",
      "Сдвиг по фазе --> P566_Межирицкий_Сдвиг_по_фазе.txt\n",
      "Война с одуванчиками --> P441_Высоцкий_Война_с_одуванчиками.txt\n",
      "Эдипов комплекс --> P342_Липскеров_Эдипов_комплекс.txt\n",
      "В ту ночь под Толедо --> Р508_Понизовский_В ту ночь в Толедо.txt\n",
      "Кусок стекла --> P59_Каверин_Кусок_стекла.txt\n",
      "Он не вернется --> P540_Громов_Он_не_вернется.txt\n",
      "Терпеливый Арсений --> P593_Петров_Терпеливый_Арсений.txt\n",
      "Что подумал он обо мне? --> P506_Ткаченко_Что_он_подумал_обо_мне_.txt\n",
      "При всех обстоятельствах --> P400_Суглобов_При_всех_обстоятельствах.txt\n",
      "И старое, и молодое --> P663_Борисков_И_старое,_и_молодое.txt\n",
      "Туда и обратно --> P543_Казменко_Туда_и_обратно.txt\n",
      "Воин,подобный метеору --> P693_Воеводин_Земля по экватору.txt\n",
      "Шаг из тьмы --> Р545_Фисенко_Шаг_из_тьмы.txt\n",
      "Неходовая леска --> Р485_Машкин_Неходовая_леска.txt\n",
      "Искусство кройки и житья --> Р459_Окуджава_Искусство_кройки_и_житья.txt\n",
      "Нигде и никогда (Станция назначения) --> Р550_Лазарчук_Нигде и никогда.txt\n",
      "Апрельсикй лед --> Р492_Дедов_Апрельский лед.txt\n",
      "История упадка и разрушения Н-ского завода --> Р602_Брайде,Чадович_История упадка и разрушения....txt\n",
      "Остров влюбленных --> P684_Буташ_Остров_влюбленных.txt\n",
      "Грядет всемирное потепление --> P678_Лапин_Борис_Грядет_Всемирное_Потепление.txt\n",
      "Бывший нищий --> Р683_Недельсон_Бывший_нищий.txt\n",
      "Однажды в мае --> P24_Аношкин_Однажды вечером.txt\n",
      "Чистые плесы --> Р694_Афонин_Чистые_плесы.txt\n",
      "Любовь октябренка Овечкина  --> P713_Соломко_Любовь_октябренка_Овечкина.txt\n",
      "Город рассыпает огни --> P702_Леонтичев_Город_рассыпает_огни.txt\n",
      "Письмо от сына --> P719_Максимов_Письмо_от_сына.txt\n",
      "Вынужденная миссия --> Исай Давыдов_Ксеня и я.txt\n",
      "Самый короткий роман --> P717_Дальцева_Самый_короткий_роман.txt\n",
      "Под одной крышей --> Р721_Бородкин_Под_одной_крышей.txt\n",
      "Искусство жить --> Р459_Окуджава_Искусство_кройки_и_житья.txt\n",
      "Донна Анна --> Лимонов_Стена плача.txt\n",
      "Утро обещает погоду --> Р713_Почивалин_Утро_обещает_погоду.txt\n",
      "Большой писатель --> Р716_Белоцерковский_Большой_писатель.txt\n",
      "Игра случая --> P717_Осоргин_Игра_случая.txt\n",
      "Бессмертие --> Р548_Курсанов_Бессмертник.txt\n",
      "Начинающие --> Гранин_Пациент.txt\n",
      "Разговор двух разговоров --> A784_Кржижановский_Разговор_двух_разговоров.txt\n",
      "Кусок стекла --> P59_Каверин_Кусок_стекла.txt\n",
      "Гвардейский гарнизон дома № 24 --> Твардовский Александр_Печники.txt\n",
      "Золотая масть --> Толстая Татьяна_Сюжет.txt\n",
      "Поздним вечером --> P24_Аношкин_Однажды вечером.txt\n",
      "Чайная роза --> Кандыба Ф._Роза.txt\n",
      "Последний час --> P688_Колягин_Последний рейс.txt\n",
      "Карла Маркса --> Пришвин_Алешкина Америка.txt\n",
      "Письмо Ленина --> Письменный Борис_Явление Духа.txt\n",
      "Бернар --> P711_Губер_Жена.txt\n",
      "Русский характер --> Грекова И._Дамский мастер.txt\n",
      "Мы - рабочие --> Варламова Инна_Мы-рабочие.txt\n",
      "Роковой зверь --> Р339_Лимонов_Девочка-зверь.txt\n",
      "Темная вода --> Стерин Вячеслав_Крутая волна.txt\n",
      "Век живи — век люби --> Полевой Борис_Мы — советские люди.txt\n",
      "Мною рожденный --> P301_Астафьев_Мною_рожденный.txt\n",
      "Курортная история --> Дмитриев_Простая история.txt\n",
      "\"Ошибка\" доктора Боткина --> Пикуль Валентин Саввич__Ошибка_ доктора Боткина.txt\n",
      "Прощание на берегу --> Пикуль Валентин_На берегу.txt\n",
      "Мальчик со спичками --> P428_Садур_Мальчик_со_спичками.txt\n",
      "Нервы шалят... --> Котенко Илья_Первый бал.txt\n",
      "Корабль мира \"Василий Чапаев\" --> Аксенов Василий_Корабль мира _Василий Чапаев_.txt\n",
      "Искусство кройки и житья --> Р459_Окуджава_Искусство_кройки_и_житья.txt\n",
      "Сдвиг по фазе --> P566_Межирицкий_Сдвиг_по_фазе.txt\n",
      "Эдипов комплекс --> P342_Липскеров_Эдипов_комплекс.txt\n",
      "Шаг из тьмы --> Р545_Фисенко_Шаг_из_тьмы.txt\n"
     ]
    }
   ],
   "execution_count": 22
  },
  {
   "metadata": {
    "ExecuteTime": {
     "end_time": "2025-05-25T17:56:32.131021Z",
     "start_time": "2025-05-25T17:56:26.089571Z"
    }
   },
   "cell_type": "code",
   "source": [
    "from sklearn.feature_extraction.text import TfidfVectorizer\n",
    "from sklearn.metrics.pairwise import cosine_similarity\n",
    "texts = df['text'].fillna('')\n",
    "vectorizer = TfidfVectorizer(max_features=10000)\n",
    "tfidf_matrix = vectorizer.fit_transform(texts)\n",
    "cos_sim = cosine_similarity(tfidf_matrix[0:1], tfidf_matrix)\n",
    "similarities = list(enumerate(cos_sim[0]))\n",
    "similarities = sorted(similarities, key=lambda x: x[1], reverse=True)\n",
    "for idx, score in similarities[1:6]:  # [1:] чтобы пропустить сам рассказ\n",
    "    print(f\"Похожий рассказ: {df.iloc[idx]['title']} (сходство: {score:.2f})\")"
   ],
   "id": "37946aa6618d3525",
   "outputs": [
    {
     "name": "stdout",
     "output_type": "stream",
     "text": [
      "Похожий рассказ: «Каменный венок» (сходство: 0.62)\n",
      "Похожий рассказ: «Черная болезнь» (сходство: 0.60)\n",
      "Похожий рассказ: Фригийские васильки (сходство: 0.59)\n",
      "Похожий рассказ: Трест имени Мопассана (сходство: 0.58)\n",
      "Похожий рассказ: Эдипов комплекс (сходство: 0.57)\n"
     ]
    }
   ],
   "execution_count": 23
  },
  {
   "metadata": {
    "ExecuteTime": {
     "end_time": "2025-05-25T17:56:33.707590Z",
     "start_time": "2025-05-25T17:56:33.693933Z"
    }
   },
   "cell_type": "code",
   "source": [
    "def recommend_similar(story_id, top_n=5, emotion_filter=None, min_rating=0):\n",
    "    # Получаем индекс нужного рассказа\n",
    "    idx = df[df['StoryID'] == story_id].index[0]\n",
    "\n",
    "    # Считаем косинусную близость\n",
    "    cos_sim = cosine_similarity(tfidf_matrix[idx], tfidf_matrix).flatten()\n",
    "\n",
    "    # Добавим сходство в датафрейм\n",
    "    df['similarity'] = cos_sim\n",
    "\n",
    "    # Пропустим сам рассказ\n",
    "    filtered = df[df['StoryID'] != story_id]\n",
    "\n",
    "    # Фильтрация по рейтингу\n",
    "    if min_rating > 0:\n",
    "        filtered = filtered[filtered['rating'] >= min_rating]\n",
    "\n",
    "    # Фильтрация по эмоции\n",
    "    if emotion_filter:\n",
    "        for emotion, threshold in emotion_filter.items():\n",
    "            filtered = filtered[filtered[emotion] >= threshold]\n",
    "\n",
    "    # Сортируем по схожести и выводим\n",
    "    result = filtered.sort_values(by='similarity', ascending=False).head(top_n)\n",
    "\n",
    "    return result[['story_id', 'title', 'rating', 'similarity']]\n"
   ],
   "id": "785f6e67b8de1349",
   "outputs": [],
   "execution_count": 24
  },
  {
   "metadata": {
    "ExecuteTime": {
     "end_time": "2025-05-25T17:56:35.821306Z",
     "start_time": "2025-05-25T17:56:35.814920Z"
    }
   },
   "cell_type": "code",
   "source": "print(df.columns.tolist())",
   "id": "9fc9bafa15b5a460",
   "outputs": [
    {
     "name": "stdout",
     "output_type": "stream",
     "text": [
      "['story_id', 'title', 'rating', 'happiness', 'sadness', 'disgust', 'surprise', 'anger', 'fear', 'filename', 'text']\n"
     ]
    }
   ],
   "execution_count": 25
  },
  {
   "metadata": {
    "ExecuteTime": {
     "end_time": "2025-05-25T17:56:43.709814Z",
     "start_time": "2025-05-25T17:56:40.281351Z"
    }
   },
   "cell_type": "code",
   "source": [
    "from sklearn.feature_extraction.text import TfidfVectorizer\n",
    "\n",
    "tfidf = TfidfVectorizer()\n",
    "tfidf_matrix = tfidf.fit_transform(df['text'].fillna(''))\n",
    "from sklearn.metrics.pairwise import cosine_similarity\n",
    "import pandas as pd\n",
    "\n",
    "def recommend_similar(story_id, top_n=5, emotion_filter=None, min_rating=0):\n",
    "    \"\"\"\n",
    "    Рекомендует рассказы, похожие на указанный по story_id, с возможностью фильтрации по эмоциям и рейтингу.\n",
    "\n",
    "    :param story_id: ID рассказа, для которого ищутся похожие.\n",
    "    :param top_n: Количество рекомендаций.\n",
    "    :param emotion_filter: Словарь вида {'sadness': 1, 'anger': 1}, где значения — минимальные пороги.\n",
    "    :param min_rating: Минимальный рейтинг (например, 6).\n",
    "    \"\"\"\n",
    "    if 'story_id' not in df.columns:\n",
    "        raise KeyError(\"'story_id' не найдена в колонках DataFrame\")\n",
    "\n",
    "    if story_id not in df['story_id'].values:\n",
    "        raise ValueError(f\"Рассказ с ID {story_id} не найден в данных\")\n",
    "\n",
    "    idx = df[df['story_id'] == story_id].index[0]\n",
    "\n",
    "    cos_sim = cosine_similarity(tfidf_matrix[idx], tfidf_matrix).flatten()\n",
    "\n",
    "    sim_df = df.copy()\n",
    "    sim_df['similarity'] = cos_sim\n",
    "\n",
    "    sim_df = sim_df[sim_df['story_id'] != story_id]\n",
    "\n",
    "    if emotion_filter:\n",
    "        for emotion, threshold in emotion_filter.items():\n",
    "            if emotion in sim_df.columns:\n",
    "                sim_df = sim_df[sim_df[emotion] >= threshold]\n",
    "\n",
    "    sim_df = sim_df[sim_df['rating'] >= min_rating]\n",
    "\n",
    "    sim_df = sim_df.sort_values(by='similarity', ascending=False)\n",
    "    for _, row in sim_df.head(top_n).iterrows():\n",
    "        print(f\"Похожий рассказ: {row['title']} (сходство: {row['similarity']:.2f})\")\n"
   ],
   "id": "1fa89056499928b0",
   "outputs": [],
   "execution_count": 26
  },
  {
   "metadata": {
    "ExecuteTime": {
     "end_time": "2025-05-24T15:06:14.673181Z",
     "start_time": "2025-05-24T15:06:14.588997Z"
    }
   },
   "cell_type": "code",
   "source": "recommend_similar(story_id='P381', top_n=5, emotion_filter={'sadness': 1}, min_rating=6)",
   "id": "e6ce94b1983acdf5",
   "outputs": [
    {
     "name": "stdout",
     "output_type": "stream",
     "text": [
      "Похожий рассказ: Иван Кузьмич (сходство: 0.26)\n",
      "Похожий рассказ: «Каменный венок» (сходство: 0.26)\n",
      "Похожий рассказ: Судьба человека (сходство: 0.26)\n",
      "Похожий рассказ: «Черная болезнь» (сходство: 0.25)\n",
      "Похожий рассказ: «Что-то зазвенело» (сходство: 0.25)\n"
     ]
    }
   ],
   "execution_count": 28
  },
  {
   "metadata": {
    "ExecuteTime": {
     "end_time": "2025-05-25T17:56:55.221352Z",
     "start_time": "2025-05-25T17:56:51.660416Z"
    }
   },
   "cell_type": "code",
   "source": [
    "import pandas as pd\n",
    "import matplotlib.pyplot as plt\n",
    "from sklearn.feature_extraction.text import TfidfVectorizer\n",
    "from sklearn.manifold import TSNE\n",
    "\n",
    "df = pd.DataFrame({\n",
    "    'title': ['На краях', 'Чужая собака', 'История Клариссы', 'Анна и Мария', 'Куманьково болото',\n",
    "              'Фотькина любовь', 'Подарки Пришвина', 'Бриллиантовая зима', 'Плата за мужество', 'Поражение Геракла']\n",
    "})\n",
    "\n",
    "vectorizer = TfidfVectorizer()\n",
    "\n",
    "tfidf_matrix = vectorizer.fit_transform(df['title'])\n",
    "\n",
    "tsne = TSNE(n_components=2, perplexity=9, random_state=42)\n",
    "tsne_results = tsne.fit_transform(tfidf_matrix.toarray())\n",
    "\n",
    "df['x'] = tsne_results[:, 0]\n",
    "df['y'] = tsne_results[:, 1]\n",
    "\n",
    "plt.figure(figsize=(10, 8))\n",
    "plt.scatter(df['x'], df['y'])\n",
    "\n",
    "for i, row in df.iterrows():\n",
    "    plt.text(row['x'], row['y'], row['title'], fontsize=9)\n",
    "\n",
    "plt.title('Визуализация эмбеддингов названий рассказов (TF-IDF)')\n",
    "plt.show()\n"
   ],
   "id": "224c2533ed85d2d5",
   "outputs": [
    {
     "name": "stderr",
     "output_type": "stream",
     "text": [
      "C:\\Users\\User\\PycharmProjects\\boolkrecommender\\.venv\\Lib\\site-packages\\sklearn\\manifold\\_t_sne.py:800: FutureWarning: The default initialization in TSNE will change from 'random' to 'pca' in 1.2.\n",
      "  warnings.warn(\n",
      "C:\\Users\\User\\PycharmProjects\\boolkrecommender\\.venv\\Lib\\site-packages\\sklearn\\manifold\\_t_sne.py:810: FutureWarning: The default learning rate in TSNE will change from 200.0 to 'auto' in 1.2.\n",
      "  warnings.warn(\n"
     ]
    },
    {
     "data": {
      "text/plain": [
       "<Figure size 1000x800 with 1 Axes>"
      ],
      "image/png": "[encoded data removed]"
     },
     "metadata": {},
     "output_type": "display_data"
    }
   ],
   "execution_count": 27
  },
  {
   "metadata": {
    "ExecuteTime": {
     "end_time": "2025-05-25T17:57:02.830509Z",
     "start_time": "2025-05-25T17:57:02.823628Z"
    }
   },
   "cell_type": "code",
   "source": "print(df.columns.tolist())\n",
   "id": "1c9c8e11b1ff0a37",
   "outputs": [
    {
     "name": "stdout",
     "output_type": "stream",
     "text": [
      "['title', 'x', 'y']\n"
     ]
    }
   ],
   "execution_count": 28
  },
  {
   "metadata": {
    "ExecuteTime": {
     "end_time": "2025-05-25T17:57:05.441002Z",
     "start_time": "2025-05-25T17:57:05.421261Z"
    }
   },
   "cell_type": "code",
   "source": [
    "import pandas as pd\n",
    "df = pd.read_csv(r'C:\\Users\\User\\Desktop\\4_course\\diploma_data\\diploma_tables\\table_fin.csv', sep=';', encoding='utf-8', on_bad_lines='skip')\n",
    "print(df.head())"
   ],
   "id": "3c16a6d6cf9b7847",
   "outputs": [
    {
     "name": "stdout",
     "output_type": "stream",
     "text": [
      "  StoryID    Название рассказа  Общая оценка  Счастье  Грусть  Отвращение  \\\n",
      "0    P306           «На краях»             6        0       0           1   \n",
      "1    P381       «Чужая собака»             6        0       2           0   \n",
      "2    P528   «История Клариссы»             3        0       0           1   \n",
      "3    P530       «Анна и Мария»             6        0       1           0   \n",
      "4    P539  «Куманьково болото»             9        2       1           1   \n",
      "\n",
      "   Удивление  Гнев  Страх  \n",
      "0          0     1      0  \n",
      "1          1     0      0  \n",
      "2          0     0      0  \n",
      "3          2     0      0  \n",
      "4          2     2      0  \n"
     ]
    }
   ],
   "execution_count": 29
  },
  {
   "metadata": {
    "ExecuteTime": {
     "end_time": "2025-05-25T17:57:08.260350Z",
     "start_time": "2025-05-25T17:57:08.245401Z"
    }
   },
   "cell_type": "code",
   "source": [
    "df.columns = df.columns.str.strip()\n",
    "df.rename(columns={'Название рассказа': 'title','Общая оценка': 'rating','Счастье': 'happiness','Грусть': 'sadness','Отвращение': 'disgust','Удивление': 'surprise','Гнев': 'anger','Страх': 'fear'}, inplace=True)\n",
    "print(df.head())"
   ],
   "id": "326dc8622f05034d",
   "outputs": [
    {
     "name": "stdout",
     "output_type": "stream",
     "text": [
      "  StoryID                title  rating  happiness  sadness  disgust  surprise  \\\n",
      "0    P306           «На краях»       6          0        0        1         0   \n",
      "1    P381       «Чужая собака»       6          0        2        0         1   \n",
      "2    P528   «История Клариссы»       3          0        0        1         0   \n",
      "3    P530       «Анна и Мария»       6          0        1        0         2   \n",
      "4    P539  «Куманьково болото»       9          2        1        1         2   \n",
      "\n",
      "   anger  fear  \n",
      "0      1     0  \n",
      "1      0     0  \n",
      "2      0     0  \n",
      "3      0     0  \n",
      "4      2     0  \n"
     ]
    }
   ],
   "execution_count": 30
  },
  {
   "metadata": {
    "ExecuteTime": {
     "end_time": "2025-05-25T17:57:10.499295Z",
     "start_time": "2025-05-25T17:57:10.485103Z"
    }
   },
   "cell_type": "code",
   "source": [
    "df.rename(columns={\n",
    "    'StoryID': 'story_id',\n",
    "    'Название рассказа': 'title',\n",
    "    'Общая оценка': 'rating',\n",
    "    'Счастье': 'happiness',\n",
    "    'Грусть': 'sadness',\n",
    "    'Отвращение': 'disgust',\n",
    "    'Удивление': 'surprise',\n",
    "    'Гнев': 'anger',\n",
    "    'Страх': 'fear'\n",
    "}, inplace=True)\n",
    "print(df.head())\n",
    "print(df.columns.tolist())"
   ],
   "id": "432882db28607d6a",
   "outputs": [
    {
     "name": "stdout",
     "output_type": "stream",
     "text": [
      "  story_id                title  rating  happiness  sadness  disgust  \\\n",
      "0     P306           «На краях»       6          0        0        1   \n",
      "1     P381       «Чужая собака»       6          0        2        0   \n",
      "2     P528   «История Клариссы»       3          0        0        1   \n",
      "3     P530       «Анна и Мария»       6          0        1        0   \n",
      "4     P539  «Куманьково болото»       9          2        1        1   \n",
      "\n",
      "   surprise  anger  fear  \n",
      "0         0      1     0  \n",
      "1         1      0     0  \n",
      "2         0      0     0  \n",
      "3         2      0     0  \n",
      "4         2      2     0  \n",
      "['story_id', 'title', 'rating', 'happiness', 'sadness', 'disgust', 'surprise', 'anger', 'fear']\n"
     ]
    }
   ],
   "execution_count": 31
  },
  {
   "metadata": {
    "ExecuteTime": {
     "end_time": "2025-05-25T17:57:13.118669Z",
     "start_time": "2025-05-25T17:57:13.111154Z"
    }
   },
   "cell_type": "code",
   "source": "print(df.columns)",
   "id": "4e445c8a2c5c89df",
   "outputs": [
    {
     "name": "stdout",
     "output_type": "stream",
     "text": [
      "Index(['story_id', 'title', 'rating', 'happiness', 'sadness', 'disgust',\n",
      "       'surprise', 'anger', 'fear'],\n",
      "      dtype='object')\n"
     ]
    }
   ],
   "execution_count": 32
  },
  {
   "metadata": {
    "ExecuteTime": {
     "end_time": "2025-05-25T17:57:31.103730Z",
     "start_time": "2025-05-25T17:57:17.319820Z"
    }
   },
   "cell_type": "code",
   "source": [
    "import os\n",
    "from difflib import get_close_matches\n",
    "\n",
    "folder_path = r\"C:\\Users\\User\\Desktop\\data_txt\"\n",
    "file_list = os.listdir(folder_path)\n",
    "\n",
    "def find_best_match(title):\n",
    "    matches = get_close_matches(title.replace(\" \", \"_\"), file_list, n=1, cutoff=0.4)\n",
    "    return matches[0] if matches else None\n",
    "\n",
    "def read_text_from_best_match(title):\n",
    "    match = find_best_match(title)\n",
    "    if match:\n",
    "        try:\n",
    "            with open(os.path.join(folder_path, match), 'r', encoding='utf-8') as f:\n",
    "                return f.read()\n",
    "        except Exception as e:\n",
    "            print(f\"Ошибка при чтении файла {match}: {e}\")\n",
    "    return None\n",
    "\n",
    "df['text'] = df['title'].apply(read_text_from_best_match)"
   ],
   "id": "d0a6160131b44752",
   "outputs": [],
   "execution_count": 33
  },
  {
   "metadata": {
    "ExecuteTime": {
     "end_time": "2025-05-25T17:57:33.972199Z",
     "start_time": "2025-05-25T17:57:33.964793Z"
    }
   },
   "cell_type": "code",
   "source": "print(df.columns)",
   "id": "e40f41621c8203db",
   "outputs": [
    {
     "name": "stdout",
     "output_type": "stream",
     "text": [
      "Index(['story_id', 'title', 'rating', 'happiness', 'sadness', 'disgust',\n",
      "       'surprise', 'anger', 'fear', 'text'],\n",
      "      dtype='object')\n"
     ]
    }
   ],
   "execution_count": 34
  },
  {
   "metadata": {
    "ExecuteTime": {
     "end_time": "2025-05-25T17:57:36.120786Z",
     "start_time": "2025-05-25T17:57:36.107303Z"
    }
   },
   "cell_type": "code",
   "source": [
    "print(df[['title', 'text']].head())\n",
    "\n"
   ],
   "id": "bb5cce3fcaf505cd",
   "outputs": [
    {
     "name": "stdout",
     "output_type": "stream",
     "text": [
      "                 title                                               text\n",
      "0           «На краях»                                               None\n",
      "1       «Чужая собака»  В «черную субботу» Иван Дмитриевич Коротков от...\n",
      "2   «История Клариссы»  История Клариссы в своей начальной стадии как ...\n",
      "3       «Анна и Мария»  Жил-был человек, который охотно помогал всем —...\n",
      "4  «Куманьково болото»  Почему Куманьково? Да потому, знать, что вокру...\n"
     ]
    }
   ],
   "execution_count": 35
  },
  {
   "metadata": {
    "ExecuteTime": {
     "end_time": "2025-05-25T17:57:39.338920Z",
     "start_time": "2025-05-25T17:57:39.330142Z"
    }
   },
   "cell_type": "code",
   "source": "print(df['text'].isnull().sum())",
   "id": "68d84da749f3f0e8",
   "outputs": [
    {
     "name": "stdout",
     "output_type": "stream",
     "text": [
      "180\n"
     ]
    }
   ],
   "execution_count": 36
  },
  {
   "metadata": {
    "ExecuteTime": {
     "end_time": "2025-05-24T15:07:40.135086Z",
     "start_time": "2025-05-24T15:06:36.907260Z"
    }
   },
   "cell_type": "code",
   "source": [
    "from transformers import AutoTokenizer, AutoModel\n",
    "import torch\n",
    "\n",
    "tokenizer = AutoTokenizer.from_pretrained(\"DeepPavlov/rubert-base-cased\")\n",
    "model = AutoModel.from_pretrained(\"DeepPavlov/rubert-base-cased\")\n",
    "\n",
    "texts = [\"Пример текста для эмбеддинга 1\", \"Пример текста для эмбеддинга 2\"]\n",
    "\n",
    "inputs = tokenizer(texts, padding=True, truncation=True, return_tensors=\"pt\")\n",
    "\n",
    "with torch.no_grad():\n",
    "    outputs = model(**inputs)\n",
    "    embeddings = outputs.last_hidden_state  # Эмбеддинги из последнего слоя\n",
    "\n",
    "\n",
    "embeddings = embeddings.mean(dim=1)\n",
    "\n",
    "print(embeddings)\n"
   ],
   "id": "e6cf98b97df33c0d",
   "outputs": [
    {
     "name": "stderr",
     "output_type": "stream",
     "text": [
      "Some weights of the model checkpoint at DeepPavlov/rubert-base-cased were not used when initializing BertModel: ['cls.predictions.bias', 'cls.predictions.decoder.bias', 'cls.predictions.decoder.weight', 'cls.predictions.transform.LayerNorm.bias', 'cls.predictions.transform.LayerNorm.weight', 'cls.predictions.transform.dense.bias', 'cls.predictions.transform.dense.weight', 'cls.seq_relationship.bias', 'cls.seq_relationship.weight']\n",
      "- This IS expected if you are initializing BertModel from the checkpoint of a model trained on another task or with another architecture (e.g. initializing a BertForSequenceClassification model from a BertForPreTraining model).\n",
      "- This IS NOT expected if you are initializing BertModel from the checkpoint of a model that you expect to be exactly identical (initializing a BertForSequenceClassification model from a BertForSequenceClassification model).\n",
      "Asking to truncate to max_length but no maximum length is provided and the model has no predefined maximum length. Default to no truncation.\n"
     ]
    },
    {
     "name": "stdout",
     "output_type": "stream",
     "text": [
      "tensor([[ 0.9509, -0.6667, -0.3431,  ...,  0.9917,  0.6518,  0.0169],\n",
      "        [ 0.9137, -0.6813, -0.2084,  ...,  1.0086,  0.7393,  0.0504]])\n"
     ]
    }
   ],
   "execution_count": 39
  },
  {
   "metadata": {
    "ExecuteTime": {
     "end_time": "2025-05-24T15:07:40.319040Z",
     "start_time": "2025-05-24T15:07:40.282075Z"
    }
   },
   "cell_type": "code",
   "source": [
    "embeddings = embeddings.mean(dim=1)  # Усреднение по всем токенам\n",
    "print(embeddings)"
   ],
   "id": "c209f490d94aa277",
   "outputs": [
    {
     "name": "stdout",
     "output_type": "stream",
     "text": [
      "tensor([-0.0069, -0.0060])\n"
     ]
    }
   ],
   "execution_count": 40
  },
  {
   "metadata": {
    "ExecuteTime": {
     "end_time": "2025-05-25T17:57:51.885166Z",
     "start_time": "2025-05-25T17:57:51.870402Z"
    }
   },
   "cell_type": "code",
   "source": [
    "texts = df['text'].tolist()\n",
    "print(df['text'])\n"
   ],
   "id": "a7243493c0050b0b",
   "outputs": [
    {
     "name": "stdout",
     "output_type": "stream",
     "text": [
      "0                                                   None\n",
      "1      В «черную субботу» Иван Дмитриевич Коротков от...\n",
      "2      История Клариссы в своей начальной стадии как ...\n",
      "3      Жил-был человек, который охотно помогал всем —...\n",
      "4      Почему Куманьково? Да потому, знать, что вокру...\n",
      "                             ...                        \n",
      "731    Молодцеватый, несмотря на свои пятьдесят семь ...\n",
      "732    Незадолго до конца своей смены Степан Игнатови...\n",
      "733    1\\n\\nОн лежит на скамье в простенке между двум...\n",
      "734                                                 None\n",
      "735    Петров мчался по горячей улице. Его слегка пот...\n",
      "Name: text, Length: 736, dtype: object\n"
     ]
    }
   ],
   "execution_count": 37
  },
  {
   "metadata": {
    "ExecuteTime": {
     "end_time": "2025-05-25T17:57:54.598371Z",
     "start_time": "2025-05-25T17:57:54.584606Z"
    }
   },
   "cell_type": "code",
   "source": [
    "df = df.dropna(subset=['text'])\n",
    "df['text'] = df['text'].astype(str)\n",
    "texts = df['text'].tolist()"
   ],
   "id": "c1efcaf7bd0b60a1",
   "outputs": [],
   "execution_count": 38
  },
  {
   "metadata": {
    "ExecuteTime": {
     "end_time": "2025-05-25T17:57:56.548854Z",
     "start_time": "2025-05-25T17:57:56.527919Z"
    }
   },
   "cell_type": "code",
   "source": [
    "print(df[['story_id', 'title', 'rating', 'happiness', 'sadness', 'disgust',\n",
    "       'surprise', 'anger', 'fear', 'text']].head())"
   ],
   "id": "ffdad9ed9025fe0e",
   "outputs": [
    {
     "name": "stdout",
     "output_type": "stream",
     "text": [
      "  story_id                title  rating  happiness  sadness  disgust  \\\n",
      "1     P381       «Чужая собака»       6          0        2        0   \n",
      "2     P528   «История Клариссы»       3          0        0        1   \n",
      "3     P530       «Анна и Мария»       6          0        1        0   \n",
      "4     P539  «Куманьково болото»       9          2        1        1   \n",
      "5     P379    «Фотькина любовь»       7          0        1        0   \n",
      "\n",
      "   surprise  anger  fear                                               text  \n",
      "1         1      0     0  В «черную субботу» Иван Дмитриевич Коротков от...  \n",
      "2         0      0     0  История Клариссы в своей начальной стадии как ...  \n",
      "3         2      0     0  Жил-был человек, который охотно помогал всем —...  \n",
      "4         2      2     0  Почему Куманьково? Да потому, знать, что вокру...  \n",
      "5         2      0     1  По северной дороге, от Вологды к Кирову, шел с...  \n"
     ]
    }
   ],
   "execution_count": 39
  },
  {
   "metadata": {
    "ExecuteTime": {
     "end_time": "2025-05-25T18:36:26.000590Z",
     "start_time": "2025-05-25T18:36:24.061189Z"
    }
   },
   "cell_type": "code",
   "source": "df.to_csv(\"df_clean.csv\", index=False, encoding=\"utf-8\")",
   "id": "ea1ba48b3e5f43ca",
   "outputs": [],
   "execution_count": 49
  },
  {
   "metadata": {
    "ExecuteTime": {
     "end_time": "2025-05-25T18:29:27.119614Z",
     "start_time": "2025-05-25T18:29:22.016584Z"
    }
   },
   "cell_type": "code",
   "source": [
    "import pandas as pd\n",
    "import numpy as np\n",
    "import torch\n",
    "from torch.utils.data import DataLoader\n",
    "from transformers import AutoTokenizer, AutoModel\n",
    "from tqdm import tqdm\n",
    "\n",
    "\n",
    "tokenizer = AutoTokenizer.from_pretrained(\"sberbank-ai/ruBert-base\")\n",
    "model = AutoModel.from_pretrained(\"sberbank-ai/ruBert-base\")\n",
    "\n",
    "device = torch.device(\"cuda\" if torch.cuda.is_available() else \"cpu\")\n",
    "model.to(device)\n",
    "model.eval()\n",
    "\n",
    "\n",
    "texts = df['text'].dropna().tolist()\n",
    "\n",
    "\n",
    "def get_bert_embeddings(texts, batch_size=16):\n",
    "    embeddings = []\n",
    "    dataloader = DataLoader(texts, batch_size=batch_size)\n",
    "\n",
    "    with torch.no_grad():\n",
    "        for batch in tqdm(dataloader, desc=\"Генерация эмбеддингов\"):\n",
    "            inputs = tokenizer(\n",
    "                list(batch),\n",
    "                padding=True,\n",
    "                truncation=True,\n",
    "                max_length=512,\n",
    "                return_tensors=\"pt\"\n",
    "            )\n",
    "            inputs = {k: v.to(device) for k, v in inputs.items()}\n",
    "            outputs = model(**inputs)\n",
    "            cls_embeddings = outputs.last_hidden_state[:, 0, :]  # CLS-токен\n",
    "            embeddings.append(cls_embeddings.cpu().numpy())\n",
    "\n",
    "    return np.vstack(embeddings)\n",
    "\n",
    "\n",
    "bert_embeddings = get_bert_embeddings(texts, batch_size=16)\n",
    "\n",
    "# Присваиваем обратно к df (важно — индексы должны совпасть!)\n",
    "df_clean = df.dropna(subset=[\"text\"]).copy()\n",
    "df_clean[\"bert_vector\"] = list(bert_embeddings)\n",
    "\n",
    "df_clean.to_сsv(\"df_with_bert.csv\")\n"
   ],
   "id": "1b7d37204fdb54e4",
   "outputs": [
    {
     "ename": "RuntimeError",
     "evalue": "Failed to import transformers.models.bert.modeling_bert because of the following error (look up to see its traceback):\nmodule 'torch' has no attribute 'compiler'",
     "output_type": "error",
     "traceback": [
      "\u001B[31m---------------------------------------------------------------------------\u001B[39m",
      "\u001B[31mAttributeError\u001B[39m                            Traceback (most recent call last)",
      "\u001B[36mFile \u001B[39m\u001B[32m~\\PycharmProjects\\boolkrecommender\\.venv\\Lib\\site-packages\\transformers\\utils\\import_utils.py:1967\u001B[39m, in \u001B[36m_LazyModule._get_module\u001B[39m\u001B[34m(self, module_name)\u001B[39m\n\u001B[32m   1966\u001B[39m \u001B[38;5;28;01mtry\u001B[39;00m:\n\u001B[32m-> \u001B[39m\u001B[32m1967\u001B[39m     \u001B[38;5;28;01mreturn\u001B[39;00m \u001B[43mimportlib\u001B[49m\u001B[43m.\u001B[49m\u001B[43mimport_module\u001B[49m\u001B[43m(\u001B[49m\u001B[33;43m\"\u001B[39;49m\u001B[33;43m.\u001B[39;49m\u001B[33;43m\"\u001B[39;49m\u001B[43m \u001B[49m\u001B[43m+\u001B[49m\u001B[43m \u001B[49m\u001B[43mmodule_name\u001B[49m\u001B[43m,\u001B[49m\u001B[43m \u001B[49m\u001B[38;5;28;43mself\u001B[39;49m\u001B[43m.\u001B[49m\u001B[34;43m__name__\u001B[39;49m\u001B[43m)\u001B[49m\n\u001B[32m   1968\u001B[39m \u001B[38;5;28;01mexcept\u001B[39;00m \u001B[38;5;167;01mException\u001B[39;00m \u001B[38;5;28;01mas\u001B[39;00m e:\n",
      "\u001B[36mFile \u001B[39m\u001B[32m~\\.jupyter\\anaconda\\Lib\\importlib\\__init__.py:126\u001B[39m, in \u001B[36mimport_module\u001B[39m\u001B[34m(name, package)\u001B[39m\n\u001B[32m    125\u001B[39m         level += \u001B[32m1\u001B[39m\n\u001B[32m--> \u001B[39m\u001B[32m126\u001B[39m \u001B[38;5;28;01mreturn\u001B[39;00m \u001B[43m_bootstrap\u001B[49m\u001B[43m.\u001B[49m\u001B[43m_gcd_import\u001B[49m\u001B[43m(\u001B[49m\u001B[43mname\u001B[49m\u001B[43m[\u001B[49m\u001B[43mlevel\u001B[49m\u001B[43m:\u001B[49m\u001B[43m]\u001B[49m\u001B[43m,\u001B[49m\u001B[43m \u001B[49m\u001B[43mpackage\u001B[49m\u001B[43m,\u001B[49m\u001B[43m \u001B[49m\u001B[43mlevel\u001B[49m\u001B[43m)\u001B[49m\n",
      "\u001B[36mFile \u001B[39m\u001B[32m<frozen importlib._bootstrap>:1204\u001B[39m, in \u001B[36m_gcd_import\u001B[39m\u001B[34m(name, package, level)\u001B[39m\n",
      "\u001B[36mFile \u001B[39m\u001B[32m<frozen importlib._bootstrap>:1176\u001B[39m, in \u001B[36m_find_and_load\u001B[39m\u001B[34m(name, import_)\u001B[39m\n",
      "\u001B[36mFile \u001B[39m\u001B[32m<frozen importlib._bootstrap>:1147\u001B[39m, in \u001B[36m_find_and_load_unlocked\u001B[39m\u001B[34m(name, import_)\u001B[39m\n",
      "\u001B[36mFile \u001B[39m\u001B[32m<frozen importlib._bootstrap>:690\u001B[39m, in \u001B[36m_load_unlocked\u001B[39m\u001B[34m(spec)\u001B[39m\n",
      "\u001B[36mFile \u001B[39m\u001B[32m<frozen importlib._bootstrap_external>:940\u001B[39m, in \u001B[36mexec_module\u001B[39m\u001B[34m(self, module)\u001B[39m\n",
      "\u001B[36mFile \u001B[39m\u001B[32m<frozen importlib._bootstrap>:241\u001B[39m, in \u001B[36m_call_with_frames_removed\u001B[39m\u001B[34m(f, *args, **kwds)\u001B[39m\n",
      "\u001B[36mFile \u001B[39m\u001B[32m~\\PycharmProjects\\boolkrecommender\\.venv\\Lib\\site-packages\\transformers\\models\\bert\\modeling_bert.py:44\u001B[39m\n\u001B[32m     33\u001B[39m \u001B[38;5;28;01mfrom\u001B[39;00m\u001B[38;5;250m \u001B[39m\u001B[34;01m.\u001B[39;00m\u001B[34;01m.\u001B[39;00m\u001B[34;01m.\u001B[39;00m\u001B[34;01mmodeling_outputs\u001B[39;00m\u001B[38;5;250m \u001B[39m\u001B[38;5;28;01mimport\u001B[39;00m (\n\u001B[32m     34\u001B[39m     BaseModelOutputWithPastAndCrossAttentions,\n\u001B[32m     35\u001B[39m     BaseModelOutputWithPoolingAndCrossAttentions,\n\u001B[32m   (...)\u001B[39m\u001B[32m     42\u001B[39m     TokenClassifierOutput,\n\u001B[32m     43\u001B[39m )\n\u001B[32m---> \u001B[39m\u001B[32m44\u001B[39m \u001B[38;5;28;01mfrom\u001B[39;00m\u001B[38;5;250m \u001B[39m\u001B[34;01m.\u001B[39;00m\u001B[34;01m.\u001B[39;00m\u001B[34;01m.\u001B[39;00m\u001B[34;01mmodeling_utils\u001B[39;00m\u001B[38;5;250m \u001B[39m\u001B[38;5;28;01mimport\u001B[39;00m PreTrainedModel\n\u001B[32m     45\u001B[39m \u001B[38;5;28;01mfrom\u001B[39;00m\u001B[38;5;250m \u001B[39m\u001B[34;01m.\u001B[39;00m\u001B[34;01m.\u001B[39;00m\u001B[34;01m.\u001B[39;00m\u001B[34;01mpytorch_utils\u001B[39;00m\u001B[38;5;250m \u001B[39m\u001B[38;5;28;01mimport\u001B[39;00m apply_chunking_to_forward, find_pruneable_heads_and_indices, prune_linear_layer\n",
      "\u001B[36mFile \u001B[39m\u001B[32m~\\PycharmProjects\\boolkrecommender\\.venv\\Lib\\site-packages\\transformers\\modeling_utils.py:62\u001B[39m\n\u001B[32m     61\u001B[39m \u001B[38;5;28;01mfrom\u001B[39;00m\u001B[38;5;250m \u001B[39m\u001B[34;01m.\u001B[39;00m\u001B[34;01mintegrations\u001B[39;00m\u001B[34;01m.\u001B[39;00m\u001B[34;01mflash_attention\u001B[39;00m\u001B[38;5;250m \u001B[39m\u001B[38;5;28;01mimport\u001B[39;00m flash_attention_forward\n\u001B[32m---> \u001B[39m\u001B[32m62\u001B[39m \u001B[38;5;28;01mfrom\u001B[39;00m\u001B[38;5;250m \u001B[39m\u001B[34;01m.\u001B[39;00m\u001B[34;01mintegrations\u001B[39;00m\u001B[34;01m.\u001B[39;00m\u001B[34;01mflex_attention\u001B[39;00m\u001B[38;5;250m \u001B[39m\u001B[38;5;28;01mimport\u001B[39;00m flex_attention_forward\n\u001B[32m     63\u001B[39m \u001B[38;5;28;01mfrom\u001B[39;00m\u001B[38;5;250m \u001B[39m\u001B[34;01m.\u001B[39;00m\u001B[34;01mintegrations\u001B[39;00m\u001B[34;01m.\u001B[39;00m\u001B[34;01msdpa_attention\u001B[39;00m\u001B[38;5;250m \u001B[39m\u001B[38;5;28;01mimport\u001B[39;00m sdpa_attention_forward\n",
      "\u001B[36mFile \u001B[39m\u001B[32m~\\PycharmProjects\\boolkrecommender\\.venv\\Lib\\site-packages\\transformers\\integrations\\flex_attention.py:45\u001B[39m\n\u001B[32m     40\u001B[39m     \u001B[38;5;28;01mfrom\u001B[39;00m\u001B[38;5;250m \u001B[39m\u001B[34;01mtorch\u001B[39;00m\u001B[34;01m.\u001B[39;00m\u001B[34;01mnn\u001B[39;00m\u001B[34;01m.\u001B[39;00m\u001B[34;01mattention\u001B[39;00m\u001B[34;01m.\u001B[39;00m\u001B[34;01mflex_attention\u001B[39;00m\u001B[38;5;250m \u001B[39m\u001B[38;5;28;01mimport\u001B[39;00m (\n\u001B[32m     41\u001B[39m         create_block_mask \u001B[38;5;28;01mas\u001B[39;00m create_block_causal_mask_flex,\n\u001B[32m     42\u001B[39m     )\n\u001B[32m---> \u001B[39m\u001B[32m45\u001B[39m \u001B[38;5;28;43;01mclass\u001B[39;49;00m\u001B[38;5;250;43m \u001B[39;49m\u001B[34;43;01mWrappedFlexAttention\u001B[39;49;00m\u001B[43m:\u001B[49m\n\u001B[32m     46\u001B[39m \u001B[38;5;250;43m    \u001B[39;49m\u001B[33;43;03m\"\"\"\u001B[39;49;00m\n\u001B[32m     47\u001B[39m \u001B[33;43;03m    We are doing a singleton class so that flex attention is compiled once when it's first called.\u001B[39;49;00m\n\u001B[32m     48\u001B[39m \u001B[33;43;03m    \"\"\"\u001B[39;49;00m\n",
      "\u001B[36mFile \u001B[39m\u001B[32m~\\PycharmProjects\\boolkrecommender\\.venv\\Lib\\site-packages\\transformers\\integrations\\flex_attention.py:60\u001B[39m, in \u001B[36mWrappedFlexAttention\u001B[39m\u001B[34m()\u001B[39m\n\u001B[32m     58\u001B[39m     \u001B[38;5;28;01mreturn\u001B[39;00m \u001B[38;5;28mcls\u001B[39m._instance\n\u001B[32m---> \u001B[39m\u001B[32m60\u001B[39m \u001B[38;5;129m@torch\u001B[39m\u001B[43m.\u001B[49m\u001B[43mcompiler\u001B[49m.disable(recursive=\u001B[38;5;28;01mFalse\u001B[39;00m)\n\u001B[32m     61\u001B[39m \u001B[38;5;28;01mdef\u001B[39;00m\u001B[38;5;250m \u001B[39m\u001B[34m__init__\u001B[39m(\u001B[38;5;28mself\u001B[39m, training):\n\u001B[32m     62\u001B[39m \u001B[38;5;250m    \u001B[39m\u001B[33;03m\"\"\"\u001B[39;00m\n\u001B[32m     63\u001B[39m \u001B[33;03m    Initialize or update the singleton instance.\u001B[39;00m\n\u001B[32m     64\u001B[39m \u001B[33;03m    \"\"\"\u001B[39;00m\n",
      "\u001B[31mAttributeError\u001B[39m: module 'torch' has no attribute 'compiler'",
      "\nThe above exception was the direct cause of the following exception:\n",
      "\u001B[31mRuntimeError\u001B[39m                              Traceback (most recent call last)",
      "\u001B[36mCell\u001B[39m\u001B[36m \u001B[39m\u001B[32mIn[47]\u001B[39m\u001B[32m, line 10\u001B[39m\n\u001B[32m      6\u001B[39m \u001B[38;5;28;01mfrom\u001B[39;00m\u001B[38;5;250m \u001B[39m\u001B[34;01mtqdm\u001B[39;00m\u001B[38;5;250m \u001B[39m\u001B[38;5;28;01mimport\u001B[39;00m tqdm\n\u001B[32m      9\u001B[39m tokenizer = AutoTokenizer.from_pretrained(\u001B[33m\"\u001B[39m\u001B[33msberbank-ai/ruBert-base\u001B[39m\u001B[33m\"\u001B[39m)\n\u001B[32m---> \u001B[39m\u001B[32m10\u001B[39m model = \u001B[43mAutoModel\u001B[49m\u001B[43m.\u001B[49m\u001B[43mfrom_pretrained\u001B[49m\u001B[43m(\u001B[49m\u001B[33;43m\"\u001B[39;49m\u001B[33;43msberbank-ai/ruBert-base\u001B[39;49m\u001B[33;43m\"\u001B[39;49m\u001B[43m)\u001B[49m\n\u001B[32m     12\u001B[39m device = torch.device(\u001B[33m\"\u001B[39m\u001B[33mcuda\u001B[39m\u001B[33m\"\u001B[39m \u001B[38;5;28;01mif\u001B[39;00m torch.cuda.is_available() \u001B[38;5;28;01melse\u001B[39;00m \u001B[33m\"\u001B[39m\u001B[33mcpu\u001B[39m\u001B[33m\"\u001B[39m)\n\u001B[32m     13\u001B[39m model.to(device)\n",
      "\u001B[36mFile \u001B[39m\u001B[32m~\\PycharmProjects\\boolkrecommender\\.venv\\Lib\\site-packages\\transformers\\models\\auto\\auto_factory.py:568\u001B[39m, in \u001B[36m_BaseAutoModelClass.from_pretrained\u001B[39m\u001B[34m(cls, pretrained_model_name_or_path, *model_args, **kwargs)\u001B[39m\n\u001B[32m    564\u001B[39m     \u001B[38;5;28;01mreturn\u001B[39;00m model_class.from_pretrained(\n\u001B[32m    565\u001B[39m         pretrained_model_name_or_path, *model_args, config=config, **hub_kwargs, **kwargs\n\u001B[32m    566\u001B[39m     )\n\u001B[32m    567\u001B[39m \u001B[38;5;28;01melif\u001B[39;00m \u001B[38;5;28mtype\u001B[39m(config) \u001B[38;5;129;01min\u001B[39;00m \u001B[38;5;28mcls\u001B[39m._model_mapping.keys():\n\u001B[32m--> \u001B[39m\u001B[32m568\u001B[39m     model_class = \u001B[43m_get_model_class\u001B[49m\u001B[43m(\u001B[49m\u001B[43mconfig\u001B[49m\u001B[43m,\u001B[49m\u001B[43m \u001B[49m\u001B[38;5;28;43mcls\u001B[39;49m\u001B[43m.\u001B[49m\u001B[43m_model_mapping\u001B[49m\u001B[43m)\u001B[49m\n\u001B[32m    569\u001B[39m     \u001B[38;5;28;01mif\u001B[39;00m model_class.config_class == config.sub_configs.get(\u001B[33m\"\u001B[39m\u001B[33mtext_config\u001B[39m\u001B[33m\"\u001B[39m, \u001B[38;5;28;01mNone\u001B[39;00m):\n\u001B[32m    570\u001B[39m         config = config.get_text_config()\n",
      "\u001B[36mFile \u001B[39m\u001B[32m~\\PycharmProjects\\boolkrecommender\\.venv\\Lib\\site-packages\\transformers\\models\\auto\\auto_factory.py:388\u001B[39m, in \u001B[36m_get_model_class\u001B[39m\u001B[34m(config, model_mapping)\u001B[39m\n\u001B[32m    387\u001B[39m \u001B[38;5;28;01mdef\u001B[39;00m\u001B[38;5;250m \u001B[39m\u001B[34m_get_model_class\u001B[39m(config, model_mapping):\n\u001B[32m--> \u001B[39m\u001B[32m388\u001B[39m     supported_models = \u001B[43mmodel_mapping\u001B[49m\u001B[43m[\u001B[49m\u001B[38;5;28;43mtype\u001B[39;49m\u001B[43m(\u001B[49m\u001B[43mconfig\u001B[49m\u001B[43m)\u001B[49m\u001B[43m]\u001B[49m\n\u001B[32m    389\u001B[39m     \u001B[38;5;28;01mif\u001B[39;00m \u001B[38;5;129;01mnot\u001B[39;00m \u001B[38;5;28misinstance\u001B[39m(supported_models, (\u001B[38;5;28mlist\u001B[39m, \u001B[38;5;28mtuple\u001B[39m)):\n\u001B[32m    390\u001B[39m         \u001B[38;5;28;01mreturn\u001B[39;00m supported_models\n",
      "\u001B[36mFile \u001B[39m\u001B[32m~\\PycharmProjects\\boolkrecommender\\.venv\\Lib\\site-packages\\transformers\\models\\auto\\auto_factory.py:770\u001B[39m, in \u001B[36m_LazyAutoMapping.__getitem__\u001B[39m\u001B[34m(self, key)\u001B[39m\n\u001B[32m    768\u001B[39m \u001B[38;5;28;01mif\u001B[39;00m model_type \u001B[38;5;129;01min\u001B[39;00m \u001B[38;5;28mself\u001B[39m._model_mapping:\n\u001B[32m    769\u001B[39m     model_name = \u001B[38;5;28mself\u001B[39m._model_mapping[model_type]\n\u001B[32m--> \u001B[39m\u001B[32m770\u001B[39m     \u001B[38;5;28;01mreturn\u001B[39;00m \u001B[38;5;28;43mself\u001B[39;49m\u001B[43m.\u001B[49m\u001B[43m_load_attr_from_module\u001B[49m\u001B[43m(\u001B[49m\u001B[43mmodel_type\u001B[49m\u001B[43m,\u001B[49m\u001B[43m \u001B[49m\u001B[43mmodel_name\u001B[49m\u001B[43m)\u001B[49m\n\u001B[32m    772\u001B[39m \u001B[38;5;66;03m# Maybe there was several model types associated with this config.\u001B[39;00m\n\u001B[32m    773\u001B[39m model_types = [k \u001B[38;5;28;01mfor\u001B[39;00m k, v \u001B[38;5;129;01min\u001B[39;00m \u001B[38;5;28mself\u001B[39m._config_mapping.items() \u001B[38;5;28;01mif\u001B[39;00m v == key.\u001B[34m__name__\u001B[39m]\n",
      "\u001B[36mFile \u001B[39m\u001B[32m~\\PycharmProjects\\boolkrecommender\\.venv\\Lib\\site-packages\\transformers\\models\\auto\\auto_factory.py:784\u001B[39m, in \u001B[36m_LazyAutoMapping._load_attr_from_module\u001B[39m\u001B[34m(self, model_type, attr)\u001B[39m\n\u001B[32m    782\u001B[39m \u001B[38;5;28;01mif\u001B[39;00m module_name \u001B[38;5;129;01mnot\u001B[39;00m \u001B[38;5;129;01min\u001B[39;00m \u001B[38;5;28mself\u001B[39m._modules:\n\u001B[32m    783\u001B[39m     \u001B[38;5;28mself\u001B[39m._modules[module_name] = importlib.import_module(\u001B[33mf\u001B[39m\u001B[33m\"\u001B[39m\u001B[33m.\u001B[39m\u001B[38;5;132;01m{\u001B[39;00mmodule_name\u001B[38;5;132;01m}\u001B[39;00m\u001B[33m\"\u001B[39m, \u001B[33m\"\u001B[39m\u001B[33mtransformers.models\u001B[39m\u001B[33m\"\u001B[39m)\n\u001B[32m--> \u001B[39m\u001B[32m784\u001B[39m \u001B[38;5;28;01mreturn\u001B[39;00m \u001B[43mgetattribute_from_module\u001B[49m\u001B[43m(\u001B[49m\u001B[38;5;28;43mself\u001B[39;49m\u001B[43m.\u001B[49m\u001B[43m_modules\u001B[49m\u001B[43m[\u001B[49m\u001B[43mmodule_name\u001B[49m\u001B[43m]\u001B[49m\u001B[43m,\u001B[49m\u001B[43m \u001B[49m\u001B[43mattr\u001B[49m\u001B[43m)\u001B[49m\n",
      "\u001B[36mFile \u001B[39m\u001B[32m~\\PycharmProjects\\boolkrecommender\\.venv\\Lib\\site-packages\\transformers\\models\\auto\\auto_factory.py:700\u001B[39m, in \u001B[36mgetattribute_from_module\u001B[39m\u001B[34m(module, attr)\u001B[39m\n\u001B[32m    698\u001B[39m \u001B[38;5;28;01mif\u001B[39;00m \u001B[38;5;28misinstance\u001B[39m(attr, \u001B[38;5;28mtuple\u001B[39m):\n\u001B[32m    699\u001B[39m     \u001B[38;5;28;01mreturn\u001B[39;00m \u001B[38;5;28mtuple\u001B[39m(getattribute_from_module(module, a) \u001B[38;5;28;01mfor\u001B[39;00m a \u001B[38;5;129;01min\u001B[39;00m attr)\n\u001B[32m--> \u001B[39m\u001B[32m700\u001B[39m \u001B[38;5;28;01mif\u001B[39;00m \u001B[38;5;28mhasattr\u001B[39m(module, attr):\n\u001B[32m    701\u001B[39m     \u001B[38;5;28;01mreturn\u001B[39;00m \u001B[38;5;28mgetattr\u001B[39m(module, attr)\n\u001B[32m    702\u001B[39m \u001B[38;5;66;03m# Some of the mappings have entries model_type -> object of another model type. In that case we try to grab the\u001B[39;00m\n\u001B[32m    703\u001B[39m \u001B[38;5;66;03m# object at the top level.\u001B[39;00m\n",
      "\u001B[36mFile \u001B[39m\u001B[32m~\\PycharmProjects\\boolkrecommender\\.venv\\Lib\\site-packages\\transformers\\utils\\import_utils.py:1955\u001B[39m, in \u001B[36m_LazyModule.__getattr__\u001B[39m\u001B[34m(self, name)\u001B[39m\n\u001B[32m   1953\u001B[39m     value = Placeholder\n\u001B[32m   1954\u001B[39m \u001B[38;5;28;01melif\u001B[39;00m name \u001B[38;5;129;01min\u001B[39;00m \u001B[38;5;28mself\u001B[39m._class_to_module.keys():\n\u001B[32m-> \u001B[39m\u001B[32m1955\u001B[39m     module = \u001B[38;5;28;43mself\u001B[39;49m\u001B[43m.\u001B[49m\u001B[43m_get_module\u001B[49m\u001B[43m(\u001B[49m\u001B[38;5;28;43mself\u001B[39;49m\u001B[43m.\u001B[49m\u001B[43m_class_to_module\u001B[49m\u001B[43m[\u001B[49m\u001B[43mname\u001B[49m\u001B[43m]\u001B[49m\u001B[43m)\u001B[49m\n\u001B[32m   1956\u001B[39m     value = \u001B[38;5;28mgetattr\u001B[39m(module, name)\n\u001B[32m   1957\u001B[39m \u001B[38;5;28;01melif\u001B[39;00m name \u001B[38;5;129;01min\u001B[39;00m \u001B[38;5;28mself\u001B[39m._modules:\n",
      "\u001B[36mFile \u001B[39m\u001B[32m~\\PycharmProjects\\boolkrecommender\\.venv\\Lib\\site-packages\\transformers\\utils\\import_utils.py:1969\u001B[39m, in \u001B[36m_LazyModule._get_module\u001B[39m\u001B[34m(self, module_name)\u001B[39m\n\u001B[32m   1967\u001B[39m     \u001B[38;5;28;01mreturn\u001B[39;00m importlib.import_module(\u001B[33m\"\u001B[39m\u001B[33m.\u001B[39m\u001B[33m\"\u001B[39m + module_name, \u001B[38;5;28mself\u001B[39m.\u001B[34m__name__\u001B[39m)\n\u001B[32m   1968\u001B[39m \u001B[38;5;28;01mexcept\u001B[39;00m \u001B[38;5;167;01mException\u001B[39;00m \u001B[38;5;28;01mas\u001B[39;00m e:\n\u001B[32m-> \u001B[39m\u001B[32m1969\u001B[39m     \u001B[38;5;28;01mraise\u001B[39;00m \u001B[38;5;167;01mRuntimeError\u001B[39;00m(\n\u001B[32m   1970\u001B[39m         \u001B[33mf\u001B[39m\u001B[33m\"\u001B[39m\u001B[33mFailed to import \u001B[39m\u001B[38;5;132;01m{\u001B[39;00m\u001B[38;5;28mself\u001B[39m.\u001B[34m__name__\u001B[39m\u001B[38;5;132;01m}\u001B[39;00m\u001B[33m.\u001B[39m\u001B[38;5;132;01m{\u001B[39;00mmodule_name\u001B[38;5;132;01m}\u001B[39;00m\u001B[33m because of the following error (look up to see its\u001B[39m\u001B[33m\"\u001B[39m\n\u001B[32m   1971\u001B[39m         \u001B[33mf\u001B[39m\u001B[33m\"\u001B[39m\u001B[33m traceback):\u001B[39m\u001B[38;5;130;01m\\n\u001B[39;00m\u001B[38;5;132;01m{\u001B[39;00me\u001B[38;5;132;01m}\u001B[39;00m\u001B[33m\"\u001B[39m\n\u001B[32m   1972\u001B[39m     ) \u001B[38;5;28;01mfrom\u001B[39;00m\u001B[38;5;250m \u001B[39m\u001B[34;01me\u001B[39;00m\n",
      "\u001B[31mRuntimeError\u001B[39m: Failed to import transformers.models.bert.modeling_bert because of the following error (look up to see its traceback):\nmodule 'torch' has no attribute 'compiler'"
     ]
    }
   ],
   "execution_count": 47
  },
  {
   "metadata": {
    "ExecuteTime": {
     "end_time": "2025-05-24T15:19:38.901229Z",
     "start_time": "2025-05-24T15:19:35.992359Z"
    }
   },
   "cell_type": "code",
   "source": [
    "from sklearn.preprocessing import StandardScaler\n",
    "from sklearn.feature_extraction.text import TfidfVectorizer\n",
    "\n",
    "tfidf_vectorizer = TfidfVectorizer(max_features=300)\n",
    "tfidf_matrix = tfidf_vectorizer.fit_transform(df_clean['text'].fillna(\"\")).toarray()\n",
    "\n",
    "emotion_columns = ['happiness', 'sadness', 'disgust','surprise', 'anger', 'fear']\n",
    "emotions = df_clean[emotion_columns].fillna(0).values\n",
    "\n",
    "ratings = df_clean['rating'].fillna(0).values.reshape(-1, 1)\n",
    "\n",
    "bert_vecs = np.vstack(df_clean['bert_vector'])\n",
    "\n",
    "hybrid_vectors = np.hstack([tfidf_matrix, bert_vecs, emotions, ratings])\n",
    "scaler = StandardScaler()\n",
    "hybrid_vectors_scaled = scaler.fit_transform(hybrid_vectors)\n",
    "\n",
    "df_clean['hybrid_vector'] = list(hybrid_vectors_scaled)\n"
   ],
   "id": "191b377d2e9756cf",
   "outputs": [],
   "execution_count": 45
  },
  {
   "metadata": {
    "ExecuteTime": {
     "end_time": "2025-05-24T15:19:38.943266Z",
     "start_time": "2025-05-24T15:19:38.913198Z"
    }
   },
   "cell_type": "code",
   "source": [
    "from sklearn.metrics.pairwise import cosine_similarity\n",
    "import numpy as np\n",
    "\n",
    "def hybrid_recommend(df, query_index, top_n=5):\n",
    "    \"\"\"\n",
    "    Находит top_n похожих рассказов на основе гибридного признакового вектора:\n",
    "    TF-IDF + BERT + эмоции + рейтинг.\n",
    "\n",
    "    :param df: DataFrame, содержащий колонку 'hybrid_vector'\n",
    "    :param query_index: индекс рассказа, по которому ищем похожие\n",
    "    :param top_n: число рекомендаций\n",
    "    :return: DataFrame с полями ['title', 'author', 'rating', ...]\n",
    "    \"\"\"\n",
    "    if 'hybrid_vector' not in df.columns:\n",
    "        raise ValueError(\"Отсутствует колонка 'hybrid_vector'. Объедините векторы перед вызовом функции.\")\n",
    "\n",
    "    query_vec = np.array(df.iloc[query_index]['hybrid_vector']).reshape(1, -1)\n",
    "    all_vecs = np.vstack(df['hybrid_vector'].values)\n",
    "\n",
    "    similarities = cosine_similarity(query_vec, all_vecs).flatten()\n",
    "    similarities[query_index] = -1  # исключаем сам рассказ\n",
    "\n",
    "    top_indices = similarities.argsort()[::-1][:top_n]\n",
    "    print(\"Top indices:\", top_indices)\n",
    "    print(df.iloc[top_indices][['title', 'rating']])\n",
    "\n",
    "    return df.iloc[top_indices][['title', 'rating', 'happiness', 'sadness', 'text']]\n"
   ],
   "id": "694e28a8d5cae404",
   "outputs": [],
   "execution_count": 46
  },
  {
   "metadata": {
    "ExecuteTime": {
     "end_time": "2025-05-24T15:19:39.002773Z",
     "start_time": "2025-05-24T15:19:38.961509Z"
    }
   },
   "cell_type": "code",
   "source": [
    "query_vector = np.array(df_clean.iloc[0]['hybrid_vector']).reshape(1, -1)\n",
    "all_vectors = np.vstack(df_clean['hybrid_vector'])\n",
    "sims = cosine_similarity(query_vector, all_vectors).flatten()\n",
    "print(sims.argsort()[::-1][:10])  # должны быть индексы с максимальной близостью\n"
   ],
   "id": "125a25255127a1fe",
   "outputs": [
    {
     "name": "stdout",
     "output_type": "stream",
     "text": [
      "[  0 278 110 245 218 362 337 255 415 122]\n"
     ]
    }
   ],
   "execution_count": 47
  },
  {
   "metadata": {
    "ExecuteTime": {
     "end_time": "2025-05-24T15:19:39.054488Z",
     "start_time": "2025-05-24T15:19:39.017721Z"
    }
   },
   "cell_type": "code",
   "source": [
    "result = hybrid_recommend(df_clean, query_index=0, top_n=5)\n",
    "print(result)\n"
   ],
   "id": "11458fc9efba821d",
   "outputs": [
    {
     "name": "stdout",
     "output_type": "stream",
     "text": [
      "Top indices: [278 110 245 218 362]\n",
      "                      title  rating\n",
      "347            Простите нас      10\n",
      "124    Война с одуванчиками       8\n",
      "292     Первое произведение       6\n",
      "247          Выстрел с Невы      10\n",
      "467  Вторая берёзовая аллея       5\n",
      "                      title  rating  happiness  sadness  \\\n",
      "347            Простите нас      10          0        2   \n",
      "124    Война с одуванчиками       8          0        2   \n",
      "292     Первое произведение       6          0        0   \n",
      "247          Выстрел с Невы      10          1        0   \n",
      "467  Вторая берёзовая аллея       5          1        0   \n",
      "\n",
      "                                                  text  \n",
      "347  Юрий Бондарев. \\n\\n«Простите нас!»\\n\\n\\n\\nЮжны...  \n",
      "124  О том, что в Москве умер его брат, Павел Алекс...  \n",
      "292  АЛЕКСАНДР ВОРОНСКИЙ\\n\\n\\n\\nПЕРВОЕ ПРОИЗВЕДЕНИЕ...  \n",
      "247  Б. Лавренев\\n\\nВЫСТРЕЛ С НЕВЫ\\n\\nРассказ\\n\\n23...  \n",
      "467  Третьего июля вечером пенсионер Аникеев узнал ...  \n"
     ]
    }
   ],
   "execution_count": 48
  },
  {
   "metadata": {
    "ExecuteTime": {
     "end_time": "2025-05-24T15:36:30.796664Z",
     "start_time": "2025-05-24T15:36:30.774314Z"
    }
   },
   "cell_type": "code",
   "source": [
    "import pandas as pd\n",
    "import os\n",
    "\n",
    "\n",
    "df_unlabeled = pd.read_csv(r\"C:\\Users\\User\\Desktop\\4_course\\diploma_data\\diploma_tables\\unlabeled_stories.csv\", sep=\";\", encoding=\"utf-8\")\n",
    "\n",
    "text_folder = r\"C:\\Users\\User\\Desktop\\4_course\\diploma_data\\texts_unlabeled\"\n",
    "\n",
    "def load_story_text_by_partial_id(story_id, folder):\n",
    "    for fname in os.listdir(folder):\n",
    "        if fname.startswith(f\"{story_id}_\") and fname.endswith(\".txt\"):\n",
    "            path = os.path.join(folder, fname)\n",
    "            try:\n",
    "                with open(path, encoding=\"utf-8\") as f:\n",
    "                    return f.read()\n",
    "            except Exception as e:\n",
    "                print(f\"Ошибка при чтении {fname}: {e}\")\n",
    "                return None\n",
    "    return None\n",
    "\n"
   ],
   "id": "124afc4905e0ef4a",
   "outputs": [],
   "execution_count": 61
  },
  {
   "metadata": {
    "ExecuteTime": {
     "end_time": "2025-05-24T15:36:50.854241Z",
     "start_time": "2025-05-24T15:36:33.292887Z"
    }
   },
   "cell_type": "code",
   "source": "df_unlabeled['text'] = df_unlabeled['story_id'].apply(lambda sid: load_story_text_by_partial_id(sid, text_folder))\n",
   "id": "86746cce5a8837f",
   "outputs": [],
   "execution_count": 62
  },
  {
   "metadata": {
    "ExecuteTime": {
     "end_time": "2025-05-24T15:39:23.159083Z",
     "start_time": "2025-05-24T15:39:23.144606Z"
    }
   },
   "cell_type": "code",
   "source": "df_unlabeled = df_unlabeled.dropna(subset=['text'])",
   "id": "3ae1604e2512533",
   "outputs": [],
   "execution_count": 64
  },
  {
   "metadata": {
    "ExecuteTime": {
     "end_time": "2025-05-24T15:41:11.023325Z",
     "start_time": "2025-05-24T15:41:05.102448Z"
    }
   },
   "cell_type": "code",
   "source": "df_unlabeled.to_excel(\"df_unlabeled_with_texts.xlsx\", index=False)",
   "id": "6e0999ae8a5c8a78",
   "outputs": [],
   "execution_count": 67
  },
  {
   "metadata": {
    "ExecuteTime": {
     "end_time": "2025-05-24T15:59:03.961615Z",
     "start_time": "2025-05-24T15:44:35.829498Z"
    }
   },
   "cell_type": "code",
   "source": [
    "import torch\n",
    "from transformers import AutoTokenizer, AutoModel\n",
    "from torch.utils.data import DataLoader\n",
    "import numpy as np\n",
    "from tqdm import tqdm\n",
    "\n",
    "# Загрузка модели и токенизатора\n",
    "tokenizer = AutoTokenizer.from_pretrained(\"sberbank-ai/ruBert-base\")\n",
    "model = AutoModel.from_pretrained(\"sberbank-ai/ruBert-base\")\n",
    "device = torch.device(\"cuda\" if torch.cuda.is_available() else \"cpu\")\n",
    "model.to(device)\n",
    "model.eval()\n",
    "\n",
    "\n",
    "texts = df_unlabeled['text'].fillna(\"\").tolist()\n",
    "\n",
    "\n",
    "def get_bert_embeddings(texts, batch_size=16):\n",
    "    embeddings = []\n",
    "    dataloader = DataLoader(texts, batch_size=batch_size)\n",
    "\n",
    "    with torch.no_grad():\n",
    "        for batch in tqdm(dataloader, desc=\"Генерация эмбеддингов\"):\n",
    "            inputs = tokenizer(\n",
    "                list(batch),\n",
    "                padding=True,\n",
    "                truncation=True,\n",
    "                max_length=512,\n",
    "                return_tensors=\"pt\"\n",
    "            )\n",
    "            inputs = {k: v.to(device) for k, v in inputs.items()}\n",
    "            outputs = model(**inputs)\n",
    "            cls_embeddings = outputs.last_hidden_state[:, 0, :]\n",
    "            embeddings.append(cls_embeddings.cpu().numpy())\n",
    "\n",
    "    return np.vstack(embeddings)\n",
    "\n",
    "# Генерация и сохранение эмбеддингов\n",
    "bert_embeddings = get_bert_embeddings(texts, batch_size=16)\n",
    "df_unlabeled['bert_vector'] = list(bert_embeddings)\n"
   ],
   "id": "5d2c2b243dce5c3d",
   "outputs": [
    {
     "name": "stderr",
     "output_type": "stream",
     "text": [
      "Генерация эмбеддингов: 100%|██████████| 63/63 [14:20<00:00, 13.65s/it]\n"
     ]
    }
   ],
   "execution_count": 68
  },
  {
   "metadata": {
    "ExecuteTime": {
     "end_time": "2025-05-24T16:35:37.364575Z",
     "start_time": "2025-05-24T16:35:37.245123Z"
    }
   },
   "cell_type": "code",
   "source": [
    "from sklearn.metrics.pairwise import cosine_similarity\n",
    "import numpy as np\n",
    "\n",
    "def recommend_from_labeled_by_bert(query_vector, labeled_vectors, labeled_df, top_n=5):\n",
    "    \"\"\"\n",
    "    Возвращает top_n самых похожих рассказов из df_labeled по вектору BERT.\n",
    "\n",
    "    :param query_vector: вектор рассказа из df_unlabeled\n",
    "    :param labeled_vectors: np.ndarray — векторы из df_labeled\n",
    "    :param labeled_df: DataFrame с текстами и метками\n",
    "    :param top_n: количество рекомендаций\n",
    "    \"\"\"\n",
    "    sims = cosine_similarity([query_vector], labeled_vectors).flatten()\n",
    "    top_indices = sims.argsort()[::-1][:top_n]\n",
    "    return labeled_df.iloc[top_indices][['story_id', 'title', 'rating', 'happiness', 'text']]\n"
   ],
   "id": "d1bc856dfb14e401",
   "outputs": [],
   "execution_count": 69
  },
  {
   "metadata": {
    "ExecuteTime": {
     "end_time": "2025-05-24T16:38:38.900679Z",
     "start_time": "2025-05-24T16:38:38.697189Z"
    }
   },
   "cell_type": "code",
   "source": "df.head()",
   "id": "2580e79181abe0e5",
   "outputs": [
    {
     "data": {
      "text/plain": [
       "  story_id                title  rating  happiness  sadness  disgust  \\\n",
       "1     P381       «Чужая собака»       6          0        2        0   \n",
       "2     P528   «История Клариссы»       3          0        0        1   \n",
       "3     P530       «Анна и Мария»       6          0        1        0   \n",
       "4     P539  «Куманьково болото»       9          2        1        1   \n",
       "5     P379    «Фотькина любовь»       7          0        1        0   \n",
       "\n",
       "   surprise  anger  fear                                               text  \n",
       "1         1      0     0  В «черную субботу» Иван Дмитриевич Коротков от...  \n",
       "2         0      0     0  История Клариссы в своей начальной стадии как ...  \n",
       "3         2      0     0  Жил-был человек, который охотно помогал всем —...  \n",
       "4         2      2     0  Почему Куманьково? Да потому, знать, что вокру...  \n",
       "5         2      0     1  По северной дороге, от Вологды к Кирову, шел с...  "
      ],
      "text/html": [
       "<div>\n",
       "<style scoped>\n",
       "    .dataframe tbody tr th:only-of-type {\n",
       "        vertical-align: middle;\n",
       "    }\n",
       "\n",
       "    .dataframe tbody tr th {\n",
       "        vertical-align: top;\n",
       "    }\n",
       "\n",
       "    .dataframe thead th {\n",
       "        text-align: right;\n",
       "    }\n",
       "</style>\n",
       "<table border=\"1\" class=\"dataframe\">\n",
       "  <thead>\n",
       "    <tr style=\"text-align: right;\">\n",
       "      <th></th>\n",
       "      <th>story_id</th>\n",
       "      <th>title</th>\n",
       "      <th>rating</th>\n",
       "      <th>happiness</th>\n",
       "      <th>sadness</th>\n",
       "      <th>disgust</th>\n",
       "      <th>surprise</th>\n",
       "      <th>anger</th>\n",
       "      <th>fear</th>\n",
       "      <th>text</th>\n",
       "    </tr>\n",
       "  </thead>\n",
       "  <tbody>\n",
       "    <tr>\n",
       "      <th>1</th>\n",
       "      <td>P381</td>\n",
       "      <td>«Чужая собака»</td>\n",
       "      <td>6</td>\n",
       "      <td>0</td>\n",
       "      <td>2</td>\n",
       "      <td>0</td>\n",
       "      <td>1</td>\n",
       "      <td>0</td>\n",
       "      <td>0</td>\n",
       "      <td>В «черную субботу» Иван Дмитриевич Коротков от...</td>\n",
       "    </tr>\n",
       "    <tr>\n",
       "      <th>2</th>\n",
       "      <td>P528</td>\n",
       "      <td>«История Клариссы»</td>\n",
       "      <td>3</td>\n",
       "      <td>0</td>\n",
       "      <td>0</td>\n",
       "      <td>1</td>\n",
       "      <td>0</td>\n",
       "      <td>0</td>\n",
       "      <td>0</td>\n",
       "      <td>История Клариссы в своей начальной стадии как ...</td>\n",
       "    </tr>\n",
       "    <tr>\n",
       "      <th>3</th>\n",
       "      <td>P530</td>\n",
       "      <td>«Анна и Мария»</td>\n",
       "      <td>6</td>\n",
       "      <td>0</td>\n",
       "      <td>1</td>\n",
       "      <td>0</td>\n",
       "      <td>2</td>\n",
       "      <td>0</td>\n",
       "      <td>0</td>\n",
       "      <td>Жил-был человек, который охотно помогал всем —...</td>\n",
       "    </tr>\n",
       "    <tr>\n",
       "      <th>4</th>\n",
       "      <td>P539</td>\n",
       "      <td>«Куманьково болото»</td>\n",
       "      <td>9</td>\n",
       "      <td>2</td>\n",
       "      <td>1</td>\n",
       "      <td>1</td>\n",
       "      <td>2</td>\n",
       "      <td>2</td>\n",
       "      <td>0</td>\n",
       "      <td>Почему Куманьково? Да потому, знать, что вокру...</td>\n",
       "    </tr>\n",
       "    <tr>\n",
       "      <th>5</th>\n",
       "      <td>P379</td>\n",
       "      <td>«Фотькина любовь»</td>\n",
       "      <td>7</td>\n",
       "      <td>0</td>\n",
       "      <td>1</td>\n",
       "      <td>0</td>\n",
       "      <td>2</td>\n",
       "      <td>0</td>\n",
       "      <td>1</td>\n",
       "      <td>По северной дороге, от Вологды к Кирову, шел с...</td>\n",
       "    </tr>\n",
       "  </tbody>\n",
       "</table>\n",
       "</div>"
      ]
     },
     "execution_count": 71,
     "metadata": {},
     "output_type": "execute_result"
    }
   ],
   "execution_count": 71
  },
  {
   "metadata": {
    "ExecuteTime": {
     "end_time": "2025-05-24T16:39:43.201427Z",
     "start_time": "2025-05-24T16:39:43.120776Z"
    }
   },
   "cell_type": "code",
   "source": "df_clean.head()",
   "id": "5de8f6ea822c0d82",
   "outputs": [
    {
     "data": {
      "text/plain": [
       "  story_id                title  rating  happiness  sadness  disgust  \\\n",
       "1     P381       «Чужая собака»       6          0        2        0   \n",
       "2     P528   «История Клариссы»       3          0        0        1   \n",
       "3     P530       «Анна и Мария»       6          0        1        0   \n",
       "4     P539  «Куманьково болото»       9          2        1        1   \n",
       "5     P379    «Фотькина любовь»       7          0        1        0   \n",
       "\n",
       "   surprise  anger  fear                                               text  \\\n",
       "1         1      0     0  В «черную субботу» Иван Дмитриевич Коротков от...   \n",
       "2         0      0     0  История Клариссы в своей начальной стадии как ...   \n",
       "3         2      0     0  Жил-был человек, который охотно помогал всем —...   \n",
       "4         2      2     0  Почему Куманьково? Да потому, знать, что вокру...   \n",
       "5         2      0     1  По северной дороге, от Вологды к Кирову, шел с...   \n",
       "\n",
       "                                         bert_vector  \\\n",
       "1  [0.3698485, 0.162148, -0.030727029, 0.70308733...   \n",
       "2  [0.7553919, 0.30680245, -0.10272001, 0.7024342...   \n",
       "3  [0.5348565, 0.06626424, 0.0503989, 0.5905434, ...   \n",
       "4  [0.36443087, 0.73728085, 0.058436267, 0.881698...   \n",
       "5  [0.16076338, 0.12178066, -0.05384083, 0.477803...   \n",
       "\n",
       "                                       hybrid_vector  \n",
       "1  [-0.7603814725976583, -0.7347497008627079, 0.6...  \n",
       "2  [1.0356038760172048, -0.7347497008627079, -1.2...  \n",
       "3  [0.11757162152983269, -0.7347497008627079, 4.4...  \n",
       "4  [-0.15472767331447007, -0.5540558031698523, 0....  \n",
       "5  [0.09917843648803289, -0.7347497008627079, -0....  "
      ],
      "text/html": [
       "<div>\n",
       "<style scoped>\n",
       "    .dataframe tbody tr th:only-of-type {\n",
       "        vertical-align: middle;\n",
       "    }\n",
       "\n",
       "    .dataframe tbody tr th {\n",
       "        vertical-align: top;\n",
       "    }\n",
       "\n",
       "    .dataframe thead th {\n",
       "        text-align: right;\n",
       "    }\n",
       "</style>\n",
       "<table border=\"1\" class=\"dataframe\">\n",
       "  <thead>\n",
       "    <tr style=\"text-align: right;\">\n",
       "      <th></th>\n",
       "      <th>story_id</th>\n",
       "      <th>title</th>\n",
       "      <th>rating</th>\n",
       "      <th>happiness</th>\n",
       "      <th>sadness</th>\n",
       "      <th>disgust</th>\n",
       "      <th>surprise</th>\n",
       "      <th>anger</th>\n",
       "      <th>fear</th>\n",
       "      <th>text</th>\n",
       "      <th>bert_vector</th>\n",
       "      <th>hybrid_vector</th>\n",
       "    </tr>\n",
       "  </thead>\n",
       "  <tbody>\n",
       "    <tr>\n",
       "      <th>1</th>\n",
       "      <td>P381</td>\n",
       "      <td>«Чужая собака»</td>\n",
       "      <td>6</td>\n",
       "      <td>0</td>\n",
       "      <td>2</td>\n",
       "      <td>0</td>\n",
       "      <td>1</td>\n",
       "      <td>0</td>\n",
       "      <td>0</td>\n",
       "      <td>В «черную субботу» Иван Дмитриевич Коротков от...</td>\n",
       "      <td>[0.3698485, 0.162148, -0.030727029, 0.70308733...</td>\n",
       "      <td>[-0.7603814725976583, -0.7347497008627079, 0.6...</td>\n",
       "    </tr>\n",
       "    <tr>\n",
       "      <th>2</th>\n",
       "      <td>P528</td>\n",
       "      <td>«История Клариссы»</td>\n",
       "      <td>3</td>\n",
       "      <td>0</td>\n",
       "      <td>0</td>\n",
       "      <td>1</td>\n",
       "      <td>0</td>\n",
       "      <td>0</td>\n",
       "      <td>0</td>\n",
       "      <td>История Клариссы в своей начальной стадии как ...</td>\n",
       "      <td>[0.7553919, 0.30680245, -0.10272001, 0.7024342...</td>\n",
       "      <td>[1.0356038760172048, -0.7347497008627079, -1.2...</td>\n",
       "    </tr>\n",
       "    <tr>\n",
       "      <th>3</th>\n",
       "      <td>P530</td>\n",
       "      <td>«Анна и Мария»</td>\n",
       "      <td>6</td>\n",
       "      <td>0</td>\n",
       "      <td>1</td>\n",
       "      <td>0</td>\n",
       "      <td>2</td>\n",
       "      <td>0</td>\n",
       "      <td>0</td>\n",
       "      <td>Жил-был человек, который охотно помогал всем —...</td>\n",
       "      <td>[0.5348565, 0.06626424, 0.0503989, 0.5905434, ...</td>\n",
       "      <td>[0.11757162152983269, -0.7347497008627079, 4.4...</td>\n",
       "    </tr>\n",
       "    <tr>\n",
       "      <th>4</th>\n",
       "      <td>P539</td>\n",
       "      <td>«Куманьково болото»</td>\n",
       "      <td>9</td>\n",
       "      <td>2</td>\n",
       "      <td>1</td>\n",
       "      <td>1</td>\n",
       "      <td>2</td>\n",
       "      <td>2</td>\n",
       "      <td>0</td>\n",
       "      <td>Почему Куманьково? Да потому, знать, что вокру...</td>\n",
       "      <td>[0.36443087, 0.73728085, 0.058436267, 0.881698...</td>\n",
       "      <td>[-0.15472767331447007, -0.5540558031698523, 0....</td>\n",
       "    </tr>\n",
       "    <tr>\n",
       "      <th>5</th>\n",
       "      <td>P379</td>\n",
       "      <td>«Фотькина любовь»</td>\n",
       "      <td>7</td>\n",
       "      <td>0</td>\n",
       "      <td>1</td>\n",
       "      <td>0</td>\n",
       "      <td>2</td>\n",
       "      <td>0</td>\n",
       "      <td>1</td>\n",
       "      <td>По северной дороге, от Вологды к Кирову, шел с...</td>\n",
       "      <td>[0.16076338, 0.12178066, -0.05384083, 0.477803...</td>\n",
       "      <td>[0.09917843648803289, -0.7347497008627079, -0....</td>\n",
       "    </tr>\n",
       "  </tbody>\n",
       "</table>\n",
       "</div>"
      ]
     },
     "execution_count": 72,
     "metadata": {},
     "output_type": "execute_result"
    }
   ],
   "execution_count": 72
  },
  {
   "metadata": {
    "ExecuteTime": {
     "end_time": "2025-05-24T16:42:26.961375Z",
     "start_time": "2025-05-24T16:42:26.940602Z"
    }
   },
   "cell_type": "code",
   "source": [
    "from sklearn.metrics.pairwise import cosine_similarity\n",
    "import numpy as np\n",
    "\n",
    "def recommend_from_labeled_by_bert(query_vector, labeled_vectors, labeled_df, top_n=5):\n",
    "    \"\"\"\n",
    "    Возвращает top_n самых похожих рассказов из df_clean по вектору BERT.\n",
    "\n",
    "    :param query_vector: np.array — вектор из df_unlabeled\n",
    "    :param labeled_vectors: np.ndarray — массив векторов из df_clean\n",
    "    :param labeled_df: DataFrame df_clean\n",
    "    :param top_n: сколько рекомендаций вернуть\n",
    "    :return: DataFrame с рекомендациями\n",
    "    \"\"\"\n",
    "    sims = cosine_similarity([query_vector], labeled_vectors).flatten()\n",
    "    top_indices = sims.argsort()[::-1][:top_n]\n",
    "    return labeled_df.iloc[top_indices][['story_id', 'title', 'rating', 'happiness', 'text']]\n"
   ],
   "id": "181a6222c0d5707",
   "outputs": [],
   "execution_count": 73
  },
  {
   "metadata": {
    "ExecuteTime": {
     "end_time": "2025-05-24T16:42:36.011386Z",
     "start_time": "2025-05-24T16:42:35.795750Z"
    }
   },
   "cell_type": "code",
   "source": [
    "# Массив векторов из df_clean\n",
    "labeled_vectors = np.vstack(df_clean['bert_vector'])\n",
    "\n",
    "# Один рассказ из df_unlabeled\n",
    "query_vector = np.array(df_unlabeled.iloc[0]['bert_vector'])\n",
    "\n",
    "# Получение рекомендаций\n",
    "recommendations = recommend_from_labeled_by_bert(query_vector, labeled_vectors, df_clean, top_n=5)\n",
    "print(recommendations)\n"
   ],
   "id": "32d328ce2ac68761",
   "outputs": [
    {
     "name": "stdout",
     "output_type": "stream",
     "text": [
      "    story_id                         title  rating  happiness  \\\n",
      "247       P7                Выстрел с Невы      10          1   \n",
      "441     Р169            В детских ботинках       5          0   \n",
      "431       P9  Правила совместного плавания       4          0   \n",
      "61      Р604       «Сады пятнистого оленя»       5          0   \n",
      "145     Р400      При всех обстоятельствах       8          0   \n",
      "\n",
      "                                                  text  \n",
      "247  Б. Лавренев\\n\\nВЫСТРЕЛ С НЕВЫ\\n\\nРассказ\\n\\n23...  \n",
      "441  СОФЬЯ ВИНОГРАДСКАЯ\\n\\nВ ДЕТСКИХ БОТИНКАХ\\n\\n\\n...  \n",
      "431  Правила совместного плавания\\n\\n\\n\\n1\\n\\n— Это...  \n",
      "61   Мы поднимались на сопку напрямик, по садам, бе...  \n",
      "145  1\\n\\nВ половине второго привезли наконец оркес...  \n"
     ]
    }
   ],
   "execution_count": 74
  },
  {
   "metadata": {
    "ExecuteTime": {
     "end_time": "2025-05-24T16:59:09.514269Z",
     "start_time": "2025-05-24T16:59:08.830749Z"
    }
   },
   "cell_type": "code",
   "source": [
    "from sklearn.model_selection import train_test_split\n",
    "from sklearn.ensemble import GradientBoostingRegressor\n",
    "from sklearn.multioutput import MultiOutputRegressor\n",
    "from sklearn.metrics import mean_squared_error\n",
    "import numpy as np\n",
    "import pandas as pd\n",
    "\n",
    "target_cols = ['rating', 'happiness', 'sadness', 'disgust', 'surprise', 'anger', 'fear']\n",
    "\n",
    "df_train = df_clean.dropna(subset=target_cols + ['bert_vector'])\n",
    "\n",
    "X = np.vstack(df_train['bert_vector'])\n",
    "y = df_train[target_cols].values\n",
    "\n"
   ],
   "id": "137e6589c8c76097",
   "outputs": [],
   "execution_count": 75
  },
  {
   "metadata": {
    "ExecuteTime": {
     "end_time": "2025-05-24T17:02:17.302696Z",
     "start_time": "2025-05-24T16:59:29.980010Z"
    }
   },
   "cell_type": "code",
   "source": [
    "model = MultiOutputRegressor(GradientBoostingRegressor(n_estimators=100, max_depth=5, random_state=42))\n",
    "model.fit(X, y)"
   ],
   "id": "8e4f60be49468f0d",
   "outputs": [
    {
     "data": {
      "text/plain": [
       "MultiOutputRegressor(estimator=GradientBoostingRegressor(max_depth=5,\n",
       "                                                         random_state=42))"
      ],
      "text/html": [
       "<style>#sk-container-id-1 {\n",
       "  /* Definition of color scheme common for light and dark mode */\n",
       "  --sklearn-color-text: #000;\n",
       "  --sklearn-color-text-muted: #666;\n",
       "  --sklearn-color-line: gray;\n",
       "  /* Definition of color scheme for unfitted estimators */\n",
       "  --sklearn-color-unfitted-level-0: #fff5e6;\n",
       "  --sklearn-color-unfitted-level-1: #f6e4d2;\n",
       "  --sklearn-color-unfitted-level-2: #ffe0b3;\n",
       "  --sklearn-color-unfitted-level-3: chocolate;\n",
       "  /* Definition of color scheme for fitted estimators */\n",
       "  --sklearn-color-fitted-level-0: #f0f8ff;\n",
       "  --sklearn-color-fitted-level-1: #d4ebff;\n",
       "  --sklearn-color-fitted-level-2: #b3dbfd;\n",
       "  --sklearn-color-fitted-level-3: cornflowerblue;\n",
       "\n",
       "  /* Specific color for light theme */\n",
       "  --sklearn-color-text-on-default-background: var(--sg-text-color, var(--theme-code-foreground, var(--jp-content-font-color1, black)));\n",
       "  --sklearn-color-background: var(--sg-background-color, var(--theme-background, var(--jp-layout-color0, white)));\n",
       "  --sklearn-color-border-box: var(--sg-text-color, var(--theme-code-foreground, var(--jp-content-font-color1, black)));\n",
       "  --sklearn-color-icon: #696969;\n",
       "\n",
       "  @media (prefers-color-scheme: dark) {\n",
       "    /* Redefinition of color scheme for dark theme */\n",
       "    --sklearn-color-text-on-default-background: var(--sg-text-color, var(--theme-code-foreground, var(--jp-content-font-color1, white)));\n",
       "    --sklearn-color-background: var(--sg-background-color, var(--theme-background, var(--jp-layout-color0, #111)));\n",
       "    --sklearn-color-border-box: var(--sg-text-color, var(--theme-code-foreground, var(--jp-content-font-color1, white)));\n",
       "    --sklearn-color-icon: #878787;\n",
       "  }\n",
       "}\n",
       "\n",
       "#sk-container-id-1 {\n",
       "  color: var(--sklearn-color-text);\n",
       "}\n",
       "\n",
       "#sk-container-id-1 pre {\n",
       "  padding: 0;\n",
       "}\n",
       "\n",
       "#sk-container-id-1 input.sk-hidden--visually {\n",
       "  border: 0;\n",
       "  clip: rect(1px 1px 1px 1px);\n",
       "  clip: rect(1px, 1px, 1px, 1px);\n",
       "  height: 1px;\n",
       "  margin: -1px;\n",
       "  overflow: hidden;\n",
       "  padding: 0;\n",
       "  position: absolute;\n",
       "  width: 1px;\n",
       "}\n",
       "\n",
       "#sk-container-id-1 div.sk-dashed-wrapped {\n",
       "  border: 1px dashed var(--sklearn-color-line);\n",
       "  margin: 0 0.4em 0.5em 0.4em;\n",
       "  box-sizing: border-box;\n",
       "  padding-bottom: 0.4em;\n",
       "  background-color: var(--sklearn-color-background);\n",
       "}\n",
       "\n",
       "#sk-container-id-1 div.sk-container {\n",
       "  /* jupyter's `normalize.less` sets `[hidden] { display: none; }`\n",
       "     but bootstrap.min.css set `[hidden] { display: none !important; }`\n",
       "     so we also need the `!important` here to be able to override the\n",
       "     default hidden behavior on the sphinx rendered scikit-learn.org.\n",
       "     See: https://github.com/scikit-learn/scikit-learn/issues/21755 */\n",
       "  display: inline-block !important;\n",
       "  position: relative;\n",
       "}\n",
       "\n",
       "#sk-container-id-1 div.sk-text-repr-fallback {\n",
       "  display: none;\n",
       "}\n",
       "\n",
       "div.sk-parallel-item,\n",
       "div.sk-serial,\n",
       "div.sk-item {\n",
       "  /* draw centered vertical line to link estimators */\n",
       "  background-image: linear-gradient(var(--sklearn-color-text-on-default-background), var(--sklearn-color-text-on-default-background));\n",
       "  background-size: 2px 100%;\n",
       "  background-repeat: no-repeat;\n",
       "  background-position: center center;\n",
       "}\n",
       "\n",
       "/* Parallel-specific style estimator block */\n",
       "\n",
       "#sk-container-id-1 div.sk-parallel-item::after {\n",
       "  content: \"\";\n",
       "  width: 100%;\n",
       "  border-bottom: 2px solid var(--sklearn-color-text-on-default-background);\n",
       "  flex-grow: 1;\n",
       "}\n",
       "\n",
       "#sk-container-id-1 div.sk-parallel {\n",
       "  display: flex;\n",
       "  align-items: stretch;\n",
       "  justify-content: center;\n",
       "  background-color: var(--sklearn-color-background);\n",
       "  position: relative;\n",
       "}\n",
       "\n",
       "#sk-container-id-1 div.sk-parallel-item {\n",
       "  display: flex;\n",
       "  flex-direction: column;\n",
       "}\n",
       "\n",
       "#sk-container-id-1 div.sk-parallel-item:first-child::after {\n",
       "  align-self: flex-end;\n",
       "  width: 50%;\n",
       "}\n",
       "\n",
       "#sk-container-id-1 div.sk-parallel-item:last-child::after {\n",
       "  align-self: flex-start;\n",
       "  width: 50%;\n",
       "}\n",
       "\n",
       "#sk-container-id-1 div.sk-parallel-item:only-child::after {\n",
       "  width: 0;\n",
       "}\n",
       "\n",
       "/* Serial-specific style estimator block */\n",
       "\n",
       "#sk-container-id-1 div.sk-serial {\n",
       "  display: flex;\n",
       "  flex-direction: column;\n",
       "  align-items: center;\n",
       "  background-color: var(--sklearn-color-background);\n",
       "  padding-right: 1em;\n",
       "  padding-left: 1em;\n",
       "}\n",
       "\n",
       "\n",
       "/* Toggleable style: style used for estimator/Pipeline/ColumnTransformer box that is\n",
       "clickable and can be expanded/collapsed.\n",
       "- Pipeline and ColumnTransformer use this feature and define the default style\n",
       "- Estimators will overwrite some part of the style using the `sk-estimator` class\n",
       "*/\n",
       "\n",
       "/* Pipeline and ColumnTransformer style (default) */\n",
       "\n",
       "#sk-container-id-1 div.sk-toggleable {\n",
       "  /* Default theme specific background. It is overwritten whether we have a\n",
       "  specific estimator or a Pipeline/ColumnTransformer */\n",
       "  background-color: var(--sklearn-color-background);\n",
       "}\n",
       "\n",
       "/* Toggleable label */\n",
       "#sk-container-id-1 label.sk-toggleable__label {\n",
       "  cursor: pointer;\n",
       "  display: flex;\n",
       "  width: 100%;\n",
       "  margin-bottom: 0;\n",
       "  padding: 0.5em;\n",
       "  box-sizing: border-box;\n",
       "  text-align: center;\n",
       "  align-items: start;\n",
       "  justify-content: space-between;\n",
       "  gap: 0.5em;\n",
       "}\n",
       "\n",
       "#sk-container-id-1 label.sk-toggleable__label .caption {\n",
       "  font-size: 0.6rem;\n",
       "  font-weight: lighter;\n",
       "  color: var(--sklearn-color-text-muted);\n",
       "}\n",
       "\n",
       "#sk-container-id-1 label.sk-toggleable__label-arrow:before {\n",
       "  /* Arrow on the left of the label */\n",
       "  content: \"▸\";\n",
       "  float: left;\n",
       "  margin-right: 0.25em;\n",
       "  color: var(--sklearn-color-icon);\n",
       "}\n",
       "\n",
       "#sk-container-id-1 label.sk-toggleable__label-arrow:hover:before {\n",
       "  color: var(--sklearn-color-text);\n",
       "}\n",
       "\n",
       "/* Toggleable content - dropdown */\n",
       "\n",
       "#sk-container-id-1 div.sk-toggleable__content {\n",
       "  max-height: 0;\n",
       "  max-width: 0;\n",
       "  overflow: hidden;\n",
       "  text-align: left;\n",
       "  /* unfitted */\n",
       "  background-color: var(--sklearn-color-unfitted-level-0);\n",
       "}\n",
       "\n",
       "#sk-container-id-1 div.sk-toggleable__content.fitted {\n",
       "  /* fitted */\n",
       "  background-color: var(--sklearn-color-fitted-level-0);\n",
       "}\n",
       "\n",
       "#sk-container-id-1 div.sk-toggleable__content pre {\n",
       "  margin: 0.2em;\n",
       "  border-radius: 0.25em;\n",
       "  color: var(--sklearn-color-text);\n",
       "  /* unfitted */\n",
       "  background-color: var(--sklearn-color-unfitted-level-0);\n",
       "}\n",
       "\n",
       "#sk-container-id-1 div.sk-toggleable__content.fitted pre {\n",
       "  /* unfitted */\n",
       "  background-color: var(--sklearn-color-fitted-level-0);\n",
       "}\n",
       "\n",
       "#sk-container-id-1 input.sk-toggleable__control:checked~div.sk-toggleable__content {\n",
       "  /* Expand drop-down */\n",
       "  max-height: 200px;\n",
       "  max-width: 100%;\n",
       "  overflow: auto;\n",
       "}\n",
       "\n",
       "#sk-container-id-1 input.sk-toggleable__control:checked~label.sk-toggleable__label-arrow:before {\n",
       "  content: \"▾\";\n",
       "}\n",
       "\n",
       "/* Pipeline/ColumnTransformer-specific style */\n",
       "\n",
       "#sk-container-id-1 div.sk-label input.sk-toggleable__control:checked~label.sk-toggleable__label {\n",
       "  color: var(--sklearn-color-text);\n",
       "  background-color: var(--sklearn-color-unfitted-level-2);\n",
       "}\n",
       "\n",
       "#sk-container-id-1 div.sk-label.fitted input.sk-toggleable__control:checked~label.sk-toggleable__label {\n",
       "  background-color: var(--sklearn-color-fitted-level-2);\n",
       "}\n",
       "\n",
       "/* Estimator-specific style */\n",
       "\n",
       "/* Colorize estimator box */\n",
       "#sk-container-id-1 div.sk-estimator input.sk-toggleable__control:checked~label.sk-toggleable__label {\n",
       "  /* unfitted */\n",
       "  background-color: var(--sklearn-color-unfitted-level-2);\n",
       "}\n",
       "\n",
       "#sk-container-id-1 div.sk-estimator.fitted input.sk-toggleable__control:checked~label.sk-toggleable__label {\n",
       "  /* fitted */\n",
       "  background-color: var(--sklearn-color-fitted-level-2);\n",
       "}\n",
       "\n",
       "#sk-container-id-1 div.sk-label label.sk-toggleable__label,\n",
       "#sk-container-id-1 div.sk-label label {\n",
       "  /* The background is the default theme color */\n",
       "  color: var(--sklearn-color-text-on-default-background);\n",
       "}\n",
       "\n",
       "/* On hover, darken the color of the background */\n",
       "#sk-container-id-1 div.sk-label:hover label.sk-toggleable__label {\n",
       "  color: var(--sklearn-color-text);\n",
       "  background-color: var(--sklearn-color-unfitted-level-2);\n",
       "}\n",
       "\n",
       "/* Label box, darken color on hover, fitted */\n",
       "#sk-container-id-1 div.sk-label.fitted:hover label.sk-toggleable__label.fitted {\n",
       "  color: var(--sklearn-color-text);\n",
       "  background-color: var(--sklearn-color-fitted-level-2);\n",
       "}\n",
       "\n",
       "/* Estimator label */\n",
       "\n",
       "#sk-container-id-1 div.sk-label label {\n",
       "  font-family: monospace;\n",
       "  font-weight: bold;\n",
       "  display: inline-block;\n",
       "  line-height: 1.2em;\n",
       "}\n",
       "\n",
       "#sk-container-id-1 div.sk-label-container {\n",
       "  text-align: center;\n",
       "}\n",
       "\n",
       "/* Estimator-specific */\n",
       "#sk-container-id-1 div.sk-estimator {\n",
       "  font-family: monospace;\n",
       "  border: 1px dotted var(--sklearn-color-border-box);\n",
       "  border-radius: 0.25em;\n",
       "  box-sizing: border-box;\n",
       "  margin-bottom: 0.5em;\n",
       "  /* unfitted */\n",
       "  background-color: var(--sklearn-color-unfitted-level-0);\n",
       "}\n",
       "\n",
       "#sk-container-id-1 div.sk-estimator.fitted {\n",
       "  /* fitted */\n",
       "  background-color: var(--sklearn-color-fitted-level-0);\n",
       "}\n",
       "\n",
       "/* on hover */\n",
       "#sk-container-id-1 div.sk-estimator:hover {\n",
       "  /* unfitted */\n",
       "  background-color: var(--sklearn-color-unfitted-level-2);\n",
       "}\n",
       "\n",
       "#sk-container-id-1 div.sk-estimator.fitted:hover {\n",
       "  /* fitted */\n",
       "  background-color: var(--sklearn-color-fitted-level-2);\n",
       "}\n",
       "\n",
       "/* Specification for estimator info (e.g. \"i\" and \"?\") */\n",
       "\n",
       "/* Common style for \"i\" and \"?\" */\n",
       "\n",
       ".sk-estimator-doc-link,\n",
       "a:link.sk-estimator-doc-link,\n",
       "a:visited.sk-estimator-doc-link {\n",
       "  float: right;\n",
       "  font-size: smaller;\n",
       "  line-height: 1em;\n",
       "  font-family: monospace;\n",
       "  background-color: var(--sklearn-color-background);\n",
       "  border-radius: 1em;\n",
       "  height: 1em;\n",
       "  width: 1em;\n",
       "  text-decoration: none !important;\n",
       "  margin-left: 0.5em;\n",
       "  text-align: center;\n",
       "  /* unfitted */\n",
       "  border: var(--sklearn-color-unfitted-level-1) 1pt solid;\n",
       "  color: var(--sklearn-color-unfitted-level-1);\n",
       "}\n",
       "\n",
       ".sk-estimator-doc-link.fitted,\n",
       "a:link.sk-estimator-doc-link.fitted,\n",
       "a:visited.sk-estimator-doc-link.fitted {\n",
       "  /* fitted */\n",
       "  border: var(--sklearn-color-fitted-level-1) 1pt solid;\n",
       "  color: var(--sklearn-color-fitted-level-1);\n",
       "}\n",
       "\n",
       "/* On hover */\n",
       "div.sk-estimator:hover .sk-estimator-doc-link:hover,\n",
       ".sk-estimator-doc-link:hover,\n",
       "div.sk-label-container:hover .sk-estimator-doc-link:hover,\n",
       ".sk-estimator-doc-link:hover {\n",
       "  /* unfitted */\n",
       "  background-color: var(--sklearn-color-unfitted-level-3);\n",
       "  color: var(--sklearn-color-background);\n",
       "  text-decoration: none;\n",
       "}\n",
       "\n",
       "div.sk-estimator.fitted:hover .sk-estimator-doc-link.fitted:hover,\n",
       ".sk-estimator-doc-link.fitted:hover,\n",
       "div.sk-label-container:hover .sk-estimator-doc-link.fitted:hover,\n",
       ".sk-estimator-doc-link.fitted:hover {\n",
       "  /* fitted */\n",
       "  background-color: var(--sklearn-color-fitted-level-3);\n",
       "  color: var(--sklearn-color-background);\n",
       "  text-decoration: none;\n",
       "}\n",
       "\n",
       "/* Span, style for the box shown on hovering the info icon */\n",
       ".sk-estimator-doc-link span {\n",
       "  display: none;\n",
       "  z-index: 9999;\n",
       "  position: relative;\n",
       "  font-weight: normal;\n",
       "  right: .2ex;\n",
       "  padding: .5ex;\n",
       "  margin: .5ex;\n",
       "  width: min-content;\n",
       "  min-width: 20ex;\n",
       "  max-width: 50ex;\n",
       "  color: var(--sklearn-color-text);\n",
       "  box-shadow: 2pt 2pt 4pt #999;\n",
       "  /* unfitted */\n",
       "  background: var(--sklearn-color-unfitted-level-0);\n",
       "  border: .5pt solid var(--sklearn-color-unfitted-level-3);\n",
       "}\n",
       "\n",
       ".sk-estimator-doc-link.fitted span {\n",
       "  /* fitted */\n",
       "  background: var(--sklearn-color-fitted-level-0);\n",
       "  border: var(--sklearn-color-fitted-level-3);\n",
       "}\n",
       "\n",
       ".sk-estimator-doc-link:hover span {\n",
       "  display: block;\n",
       "}\n",
       "\n",
       "/* \"?\"-specific style due to the `<a>` HTML tag */\n",
       "\n",
       "#sk-container-id-1 a.estimator_doc_link {\n",
       "  float: right;\n",
       "  font-size: 1rem;\n",
       "  line-height: 1em;\n",
       "  font-family: monospace;\n",
       "  background-color: var(--sklearn-color-background);\n",
       "  border-radius: 1rem;\n",
       "  height: 1rem;\n",
       "  width: 1rem;\n",
       "  text-decoration: none;\n",
       "  /* unfitted */\n",
       "  color: var(--sklearn-color-unfitted-level-1);\n",
       "  border: var(--sklearn-color-unfitted-level-1) 1pt solid;\n",
       "}\n",
       "\n",
       "#sk-container-id-1 a.estimator_doc_link.fitted {\n",
       "  /* fitted */\n",
       "  border: var(--sklearn-color-fitted-level-1) 1pt solid;\n",
       "  color: var(--sklearn-color-fitted-level-1);\n",
       "}\n",
       "\n",
       "/* On hover */\n",
       "#sk-container-id-1 a.estimator_doc_link:hover {\n",
       "  /* unfitted */\n",
       "  background-color: var(--sklearn-color-unfitted-level-3);\n",
       "  color: var(--sklearn-color-background);\n",
       "  text-decoration: none;\n",
       "}\n",
       "\n",
       "#sk-container-id-1 a.estimator_doc_link.fitted:hover {\n",
       "  /* fitted */\n",
       "  background-color: var(--sklearn-color-fitted-level-3);\n",
       "}\n",
       "</style><div id=\"sk-container-id-1\" class=\"sk-top-container\"><div class=\"sk-text-repr-fallback\"><pre>MultiOutputRegressor(estimator=GradientBoostingRegressor(max_depth=5,\n",
       "                                                         random_state=42))</pre><b>In a Jupyter environment, please rerun this cell to show the HTML representation or trust the notebook. <br />On GitHub, the HTML representation is unable to render, please try loading this page with nbviewer.org.</b></div><div class=\"sk-container\" hidden><div class=\"sk-item sk-dashed-wrapped\"><div class=\"sk-label-container\"><div class=\"sk-label fitted sk-toggleable\"><input class=\"sk-toggleable__control sk-hidden--visually\" id=\"sk-estimator-id-1\" type=\"checkbox\" ><label for=\"sk-estimator-id-1\" class=\"sk-toggleable__label fitted sk-toggleable__label-arrow\"><div><div>MultiOutputRegressor</div></div><div><a class=\"sk-estimator-doc-link fitted\" rel=\"noreferrer\" target=\"_blank\" href=\"https://scikit-learn.org/1.6/modules/generated/sklearn.multioutput.MultiOutputRegressor.html\">?<span>Documentation for MultiOutputRegressor</span></a><span class=\"sk-estimator-doc-link fitted\">i<span>Fitted</span></span></div></label><div class=\"sk-toggleable__content fitted\"><pre>MultiOutputRegressor(estimator=GradientBoostingRegressor(max_depth=5,\n",
       "                                                         random_state=42))</pre></div> </div></div><div class=\"sk-parallel\"><div class=\"sk-parallel-item\"><div class=\"sk-item\"><div class=\"sk-label-container\"><div class=\"sk-label fitted sk-toggleable\"><input class=\"sk-toggleable__control sk-hidden--visually\" id=\"sk-estimator-id-2\" type=\"checkbox\" ><label for=\"sk-estimator-id-2\" class=\"sk-toggleable__label fitted sk-toggleable__label-arrow\"><div><div>estimator: GradientBoostingRegressor</div></div></label><div class=\"sk-toggleable__content fitted\"><pre>GradientBoostingRegressor(max_depth=5, random_state=42)</pre></div> </div></div><div class=\"sk-serial\"><div class=\"sk-item\"><div class=\"sk-estimator fitted sk-toggleable\"><input class=\"sk-toggleable__control sk-hidden--visually\" id=\"sk-estimator-id-3\" type=\"checkbox\" ><label for=\"sk-estimator-id-3\" class=\"sk-toggleable__label fitted sk-toggleable__label-arrow\"><div><div>GradientBoostingRegressor</div></div><div><a class=\"sk-estimator-doc-link fitted\" rel=\"noreferrer\" target=\"_blank\" href=\"https://scikit-learn.org/1.6/modules/generated/sklearn.ensemble.GradientBoostingRegressor.html\">?<span>Documentation for GradientBoostingRegressor</span></a></div></label><div class=\"sk-toggleable__content fitted\"><pre>GradientBoostingRegressor(max_depth=5, random_state=42)</pre></div> </div></div></div></div></div></div></div></div></div>"
      ]
     },
     "execution_count": 76,
     "metadata": {},
     "output_type": "execute_result"
    }
   ],
   "execution_count": 76
  },
  {
   "metadata": {
    "ExecuteTime": {
     "end_time": "2025-05-24T17:02:38.543387Z",
     "start_time": "2025-05-24T17:02:38.354287Z"
    }
   },
   "cell_type": "code",
   "source": [
    "X_unlabeled = np.vstack(df_unlabeled['bert_vector'])\n",
    "y_pred = model.predict(X_unlabeled)\n",
    "\n",
    "for i, col in enumerate(target_cols):\n",
    "    df_unlabeled[col] = y_pred[:, i]"
   ],
   "id": "4bbb65bc4c40b9a7",
   "outputs": [],
   "execution_count": 77
  },
  {
   "metadata": {
    "ExecuteTime": {
     "end_time": "2025-05-24T17:03:44.978696Z",
     "start_time": "2025-05-24T17:03:39.356455Z"
    }
   },
   "cell_type": "code",
   "source": [
    "from sklearn.feature_extraction.text import TfidfVectorizer\n",
    "from sklearn.preprocessing import StandardScaler\n",
    "\n",
    "# 1. TF-IDF на всех текстах\n",
    "tfidf = TfidfVectorizer(max_features=300)\n",
    "tfidf_matrix_unlabeled = tfidf.fit_transform(df_unlabeled['text'].fillna(\"\")).toarray()\n",
    "\n",
    "# 2. Эмоции и рейтинг\n",
    "emotion_cols = ['happiness', 'sadness', 'disgust', 'surprise', 'anger', 'fear']\n",
    "emotions = df_unlabeled[emotion_cols].fillna(0).values\n",
    "ratings = df_unlabeled['rating'].fillna(0).values.reshape(-1, 1)\n",
    "\n",
    "# 3. BERT\n",
    "bert = np.vstack(df_unlabeled['bert_vector'])\n",
    "\n",
    "# 4. Объединение\n",
    "hybrid_unlabeled = np.hstack([tfidf_matrix_unlabeled, bert, emotions, ratings])\n",
    "\n",
    "# 5. Нормализация\n",
    "scaler = StandardScaler()\n",
    "hybrid_unlabeled_scaled = scaler.fit_transform(hybrid_unlabeled)\n",
    "\n",
    "# Сохраняем в датафрейм\n",
    "df_unlabeled['hybrid_vector'] = list(hybrid_unlabeled_scaled)\n"
   ],
   "id": "e119fcf301fbed08",
   "outputs": [],
   "execution_count": 78
  },
  {
   "metadata": {
    "ExecuteTime": {
     "end_time": "2025-05-24T17:06:08.193586Z",
     "start_time": "2025-05-24T17:06:08.182138Z"
    }
   },
   "cell_type": "code",
   "source": [
    "from sklearn.metrics.pairwise import cosine_similarity\n",
    "\n",
    "def recommend_from_clean_for_unlabeled_by_hybrid(df_unlabeled, df_clean, top_n=5):\n",
    "    \"\"\"\n",
    "    Для каждого рассказа из df_unlabeled находит top_n похожих рассказов из df_clean по hybrid_vector.\n",
    "    \"\"\"\n",
    "    labeled_vectors = np.vstack(df_clean['hybrid_vector'])\n",
    "    results = []\n",
    "\n",
    "    for idx, row in df_unlabeled.iterrows():\n",
    "        query_vector = np.array(row['hybrid_vector']).reshape(1, -1)\n",
    "        similarities = cosine_similarity(query_vector, labeled_vectors).flatten()\n",
    "        top_indices = similarities.argsort()[::-1][:top_n]\n",
    "\n",
    "        top_matches = df_clean.iloc[top_indices][['story_id', 'title', 'rating', 'happiness']]\n",
    "        top_matches['source_story_id'] = row['story_id']\n",
    "        top_matches['source_title'] = row['title']\n",
    "        results.append(top_matches)\n",
    "\n",
    "    return pd.concat(results, ignore_index=True)\n"
   ],
   "id": "4cb27919831ab4dd",
   "outputs": [],
   "execution_count": 79
  },
  {
   "metadata": {
    "ExecuteTime": {
     "end_time": "2025-05-24T17:07:10.823278Z",
     "start_time": "2025-05-24T17:07:10.729952Z"
    }
   },
   "cell_type": "code",
   "source": [
    "sample_result = recommend_from_clean_for_unlabeled_by_hybrid(df_unlabeled.iloc[:1], df_clean, top_n=5)\n",
    "print(sample_result)"
   ],
   "id": "19ab23ff7454b12a",
   "outputs": [
    {
     "name": "stdout",
     "output_type": "stream",
     "text": [
      "  story_id                         title  rating  happiness source_story_id  \\\n",
      "0     Р507              «Двадцать минут»      10          1            A120   \n",
      "1       P9  Правила совместного плавания       4          0            A120   \n",
      "2       P7                Выстрел с Невы      10          1            A120   \n",
      "3     Р169            В детских ботинках       5          0            A120   \n",
      "4      Р91            Конец Ибрагим-бека       7          1            A120   \n",
      "\n",
      "  source_title  \n",
      "0     Мятежник  \n",
      "1     Мятежник  \n",
      "2     Мятежник  \n",
      "3     Мятежник  \n",
      "4     Мятежник  \n"
     ]
    }
   ],
   "execution_count": 80
  },
  {
   "metadata": {
    "ExecuteTime": {
     "end_time": "2025-05-24T17:11:13.899872Z",
     "start_time": "2025-05-24T17:11:13.880267Z"
    }
   },
   "cell_type": "code",
   "source": [
    "from sklearn.metrics.pairwise import cosine_similarity\n",
    "import numpy as np\n",
    "import pandas as pd\n",
    "\n",
    "def recommend_unlabeled_for_clean(df_clean, df_unlabeled, top_n=5):\n",
    "    \"\"\"\n",
    "    Для каждого рассказа из df_clean находит top_n похожих рассказов из df_unlabeled по hybrid_vector.\n",
    "    \"\"\"\n",
    "    unlabeled_vectors = np.vstack(df_unlabeled['hybrid_vector'])\n",
    "    results = []\n",
    "\n",
    "    for idx, row in df_clean.iterrows():\n",
    "        query_vector = np.array(row['hybrid_vector']).reshape(1, -1)\n",
    "        similarities = cosine_similarity(query_vector, unlabeled_vectors).flatten()\n",
    "\n",
    "        top_indices = similarities.argsort()[::-1][:top_n]\n",
    "        top_matches = df_unlabeled.iloc[top_indices][['story_id', 'title']].copy()\n",
    "        top_matches['source_story_id'] = row['story_id']\n",
    "        top_matches['source_title'] = row['title']\n",
    "        results.append(top_matches)\n",
    "\n",
    "    return pd.concat(results, ignore_index=True)\n"
   ],
   "id": "ccf008b665e2277c",
   "outputs": [],
   "execution_count": 81
  },
  {
   "metadata": {
    "ExecuteTime": {
     "end_time": "2025-05-24T17:15:10.547287Z",
     "start_time": "2025-05-24T17:15:10.491068Z"
    }
   },
   "cell_type": "code",
   "source": "recommend_unlabeled_for_clean(df_clean.iloc[355:356], df_unlabeled, top_n=5)\n",
   "id": "c3b89f4e869f9a51",
   "outputs": [
    {
     "data": {
      "text/plain": [
       "  story_id                     title source_story_id       source_title\n",
       "0     P184                     Настя            P179  Музыка на вокзале\n",
       "1     Р314  Рассказ о пользе молока             P179  Музыка на вокзале\n",
       "2     S119                    Зеленя            P179  Музыка на вокзале\n",
       "3     P400  При всех обстоятельствах            P179  Музыка на вокзале\n",
       "4     E093             Высокий берег            P179  Музыка на вокзале"
      ],
      "text/html": [
       "<div>\n",
       "<style scoped>\n",
       "    .dataframe tbody tr th:only-of-type {\n",
       "        vertical-align: middle;\n",
       "    }\n",
       "\n",
       "    .dataframe tbody tr th {\n",
       "        vertical-align: top;\n",
       "    }\n",
       "\n",
       "    .dataframe thead th {\n",
       "        text-align: right;\n",
       "    }\n",
       "</style>\n",
       "<table border=\"1\" class=\"dataframe\">\n",
       "  <thead>\n",
       "    <tr style=\"text-align: right;\">\n",
       "      <th></th>\n",
       "      <th>story_id</th>\n",
       "      <th>title</th>\n",
       "      <th>source_story_id</th>\n",
       "      <th>source_title</th>\n",
       "    </tr>\n",
       "  </thead>\n",
       "  <tbody>\n",
       "    <tr>\n",
       "      <th>0</th>\n",
       "      <td>P184</td>\n",
       "      <td>Настя</td>\n",
       "      <td>P179</td>\n",
       "      <td>Музыка на вокзале</td>\n",
       "    </tr>\n",
       "    <tr>\n",
       "      <th>1</th>\n",
       "      <td>Р314</td>\n",
       "      <td>Рассказ о пользе молока</td>\n",
       "      <td>P179</td>\n",
       "      <td>Музыка на вокзале</td>\n",
       "    </tr>\n",
       "    <tr>\n",
       "      <th>2</th>\n",
       "      <td>S119</td>\n",
       "      <td>Зеленя</td>\n",
       "      <td>P179</td>\n",
       "      <td>Музыка на вокзале</td>\n",
       "    </tr>\n",
       "    <tr>\n",
       "      <th>3</th>\n",
       "      <td>P400</td>\n",
       "      <td>При всех обстоятельствах</td>\n",
       "      <td>P179</td>\n",
       "      <td>Музыка на вокзале</td>\n",
       "    </tr>\n",
       "    <tr>\n",
       "      <th>4</th>\n",
       "      <td>E093</td>\n",
       "      <td>Высокий берег</td>\n",
       "      <td>P179</td>\n",
       "      <td>Музыка на вокзале</td>\n",
       "    </tr>\n",
       "  </tbody>\n",
       "</table>\n",
       "</div>"
      ]
     },
     "execution_count": 88,
     "metadata": {},
     "output_type": "execute_result"
    }
   ],
   "execution_count": 88
  },
  {
   "metadata": {
    "ExecuteTime": {
     "end_time": "2025-05-24T17:33:04.054177Z",
     "start_time": "2025-05-24T17:33:04.039603Z"
    }
   },
   "cell_type": "code",
   "source": [
    "def find_best_match_by_emotion(df_clean, emotion_query: dict, min_rating=0):\n",
    "    \"\"\"\n",
    "    Находит рассказ в df_clean, максимально близкий к заданным эмоциям и рейтингу.\n",
    "    emotion_query: {'sadness': 2, 'fear': 2}\n",
    "    \"\"\"\n",
    "    df_filtered = df_clean[df_clean['rating'] >= min_rating].copy()\n",
    "\n",
    "    for emo, target in emotion_query.items():\n",
    "        df_filtered[emo + '_diff'] = (df_filtered[emo] - target).abs()\n",
    "\n",
    "    # Суммарная \"дистанция\" по эмоциям\n",
    "    emotion_diff_cols = [col for col in df_filtered.columns if col.endswith('_diff')]\n",
    "    df_filtered['emotion_score'] = df_filtered[emotion_diff_cols].sum(axis=1)\n",
    "\n",
    "    best_match = df_filtered.sort_values('emotion_score').iloc[0]\n",
    "    return best_match\n"
   ],
   "id": "221ed2ea2739888e",
   "outputs": [],
   "execution_count": 89
  },
  {
   "metadata": {
    "ExecuteTime": {
     "end_time": "2025-05-24T17:33:13.840497Z",
     "start_time": "2025-05-24T17:33:13.826768Z"
    }
   },
   "cell_type": "code",
   "source": [
    "def recommend_unlabeled_from_clean_story(clean_story, df_unlabeled, top_n=5):\n",
    "    query_vector = np.array(clean_story['hybrid_vector']).reshape(1, -1)\n",
    "    unlabeled_vectors = np.vstack(df_unlabeled['hybrid_vector'])\n",
    "\n",
    "    sims = cosine_similarity(query_vector, unlabeled_vectors).flatten()\n",
    "    top_indices = sims.argsort()[::-1][:top_n]\n",
    "    return df_unlabeled.iloc[top_indices][['story_id', 'title', 'text']]\n"
   ],
   "id": "4b1cb1b924d9bb3f",
   "outputs": [],
   "execution_count": 90
  },
  {
   "metadata": {
    "ExecuteTime": {
     "end_time": "2025-05-24T17:38:38.998499Z",
     "start_time": "2025-05-24T17:38:38.949365Z"
    }
   },
   "cell_type": "code",
   "source": [
    "query = {'happiness':2, 'surprise': 0.9, 'rating': 1}\n",
    "\n",
    "# 1. Найти опорный рассказ\n",
    "matched_story = find_best_match_by_emotion(df_clean, query, min_rating=7)\n",
    "print(\"Подобран рассказ:\", matched_story['story_id'], matched_story['title'])\n",
    "\n",
    "# 2. Получить рекомендации из df_unlabeled\n",
    "recommendations = recommend_unlabeled_from_clean_story(matched_story, df_unlabeled, top_n=5)\n",
    "print(recommendations)"
   ],
   "id": "4b83ad75bde224b5",
   "outputs": [
    {
     "name": "stdout",
     "output_type": "stream",
     "text": [
      "Подобран рассказ: Р472 «Волшебный хмель»\n",
      "    story_id              title  \\\n",
      "872     Р472    Волшебный хмель   \n",
      "284     P271       Сыновний суд   \n",
      "563     S129           Складень   \n",
      "160     P122             Ошибка   \n",
      "608     S176  Кровобор-богатырь   \n",
      "\n",
      "                                                  text  \n",
      "872  В Забаре от старого барского дома, который сто...  \n",
      "284  Ким Анатолий Андреевич\\n\\nСыновний суд\\n\\n1\\n\\...  \n",
      "563  Как две черные, неисчислимые и вражеские рати,...  \n",
      "160  Валентин ОВЕЧКИН\\n\\nОШИБКА\\n\\nСилантия Федоров...  \n",
      "608  Кровобор-Богатырь трижды подымается. Он трижды...  \n"
     ]
    }
   ],
   "execution_count": 113
  },
  {
   "metadata": {
    "ExecuteTime": {
     "end_time": "2025-05-24T18:01:48.448683Z",
     "start_time": "2025-05-24T18:01:28.280360Z"
    }
   },
   "cell_type": "code",
   "source": [
    "from transformers import AutoTokenizer, AutoModel\n",
    "import torch\n",
    "from sklearn.metrics.pairwise import cosine_similarity\n",
    "import numpy as np\n",
    "\n",
    "\n",
    "tokenizer = AutoTokenizer.from_pretrained(\"sberbank-ai/ruBert-base\")\n",
    "model = AutoModel.from_pretrained(\"sberbank-ai/ruBert-base\")\n",
    "model.eval()\n",
    "\n",
    "def encode_query(text):\n",
    "    \"\"\"Получает BERT-вектор CLS для текстового запроса\"\"\"\n",
    "    inputs = tokenizer(text, return_tensors=\"pt\", truncation=True, padding=True, max_length=512)\n",
    "    with torch.no_grad():\n",
    "        outputs = model(**inputs)\n",
    "    return outputs.last_hidden_state[:, 0, :].squeeze().numpy()\n"
   ],
   "id": "d0b566682c5e5aa2",
   "outputs": [],
   "execution_count": 114
  },
  {
   "metadata": {
    "ExecuteTime": {
     "end_time": "2025-05-24T18:01:58.403012Z",
     "start_time": "2025-05-24T18:01:58.356513Z"
    }
   },
   "cell_type": "code",
   "source": [
    "def find_best_semantic_story(df_clean, query_text, emotion_filter=None, min_rating=0):\n",
    "\n",
    "    query_vector = encode_query(query_text)\n",
    "\n",
    "    df_filtered = df_clean.copy()\n",
    "    if min_rating > 0:\n",
    "        df_filtered = df_filtered[df_filtered['rating'] >= min_rating]\n",
    "    if emotion_filter:\n",
    "        for emo, target in emotion_filter.items():\n",
    "            df_filtered = df_filtered[df_filtered[emo] >= target]\n",
    "\n",
    "    vectors = np.vstack(df_filtered['bert_vector'])\n",
    "    sims = cosine_similarity([query_vector], vectors).flatten()\n",
    "    best_idx = sims.argmax()\n",
    "    return df_filtered.iloc[best_idx]\n"
   ],
   "id": "3b5d69c222946d05",
   "outputs": [],
   "execution_count": 115
  },
  {
   "metadata": {
    "ExecuteTime": {
     "end_time": "2025-05-24T18:02:08.746605Z",
     "start_time": "2025-05-24T18:02:08.706176Z"
    }
   },
   "cell_type": "code",
   "source": [
    "def recommend_unlabeled_from_story(story_row, df_unlabeled, top_n=5):\n",
    "    \"\"\"\n",
    "    Возвращает 2 набора рекомендаций из df_unlabeled:\n",
    "    1) по bert_vector (semantic), 2) по hybrid_vector\n",
    "    \"\"\"\n",
    "    results = {}\n",
    "\n",
    "    # SEMANTIC\n",
    "    story_bert = np.array(story_row['bert_vector']).reshape(1, -1)\n",
    "    vectors_bert = np.vstack(df_unlabeled['bert_vector'])\n",
    "    sims_bert = cosine_similarity(story_bert, vectors_bert).flatten()\n",
    "    top_bert_idx = sims_bert.argsort()[::-1][:top_n]\n",
    "    results['semantic'] = df_unlabeled.iloc[top_bert_idx][['story_id', 'title', 'text']]\n",
    "\n",
    "    # HYBRID\n",
    "    story_hybrid = np.array(story_row['hybrid_vector']).reshape(1, -1)\n",
    "    vectors_hybrid = np.vstack(df_unlabeled['hybrid_vector'])\n",
    "    sims_hybrid = cosine_similarity(story_hybrid, vectors_hybrid).flatten()\n",
    "    top_hybrid_idx = sims_hybrid.argsort()[::-1][:top_n]\n",
    "    results['hybrid'] = df_unlabeled.iloc[top_hybrid_idx][['story_id', 'title', 'text']]\n",
    "\n",
    "    return results\n"
   ],
   "id": "67e39c424ebf5a07",
   "outputs": [],
   "execution_count": 116
  },
  {
   "metadata": {
    "ExecuteTime": {
     "end_time": "2025-05-24T18:07:14.578771Z",
     "start_time": "2025-05-24T18:07:14.553013Z"
    }
   },
   "cell_type": "code",
   "source": [
    "def recommend_unlabeled_from_story(story_row, df_unlabeled, top_n=5):\n",
    "    \"\"\"\n",
    "    Возвращает рекомендации + косинусное сходство по BERT и HYBRID вектору.\n",
    "    \"\"\"\n",
    "    results = {}\n",
    "\n",
    "    # SEMANTIC\n",
    "    story_bert = np.array(story_row['bert_vector']).reshape(1, -1)\n",
    "    vectors_bert = np.vstack(df_unlabeled['bert_vector'])\n",
    "    sims_bert = cosine_similarity(story_bert, vectors_bert).flatten()\n",
    "    top_bert_idx = sims_bert.argsort()[::-1][:top_n]\n",
    "\n",
    "    df_sem = df_unlabeled.iloc[top_bert_idx][['story_id', 'title', 'text']].copy()\n",
    "    df_sem['similarity'] = sims_bert[top_bert_idx]\n",
    "    results['semantic'] = df_sem\n",
    "\n",
    "    # HYBRID\n",
    "    story_hybrid = np.array(story_row['hybrid_vector']).reshape(1, -1)\n",
    "    vectors_hybrid = np.vstack(df_unlabeled['hybrid_vector'])\n",
    "    sims_hybrid = cosine_similarity(story_hybrid, vectors_hybrid).flatten()\n",
    "    top_hybrid_idx = sims_hybrid.argsort()[::-1][:top_n]\n",
    "\n",
    "    df_hyb = df_unlabeled.iloc[top_hybrid_idx][['story_id', 'title', 'text']].copy()\n",
    "    df_hyb['similarity'] = sims_hybrid[top_hybrid_idx]\n",
    "    results['hybrid'] = df_hyb\n",
    "\n",
    "    return results\n"
   ],
   "id": "d923e44e79d02801",
   "outputs": [],
   "execution_count": 118
  },
  {
   "metadata": {
    "ExecuteTime": {
     "end_time": "2025-05-24T18:09:55.728891Z",
     "start_time": "2025-05-24T18:09:55.449152Z"
    }
   },
   "cell_type": "code",
   "source": [
    "query = \"одиночество\"\n",
    "emotion_filter = {'sadness': 1.5, 'anger': 1}\n",
    "min_rating = 7\n",
    "\n",
    "# 1. Найти наиболее близкий рассказ из df_clean\n",
    "best_story = find_best_semantic_story(df_clean, query, emotion_filter, min_rating)\n",
    "print(\"Опорный рассказ:\", best_story['title'])\n",
    "\n",
    "recs = recommend_unlabeled_from_story(best_story, df_unlabeled, top_n=5)\n",
    "\n",
    "print(\"\\n🔹 Семантические рекомендации:\")\n",
    "print(recs['semantic'][['story_id', 'title', 'similarity']])\n",
    "\n",
    "print(\"\\n🔸 Гибридные рекомендации:\")\n",
    "print(recs['hybrid'][['story_id', 'title', 'similarity']])\n"
   ],
   "id": "5634e60f193a5c35",
   "outputs": [
    {
     "name": "stdout",
     "output_type": "stream",
     "text": [
      "Опорный рассказ: Без улыбок\n",
      "\n",
      "🔹 Семантические рекомендации:\n",
      "    story_id           title  similarity\n",
      "864     Р462      Без улыбок    1.000000\n",
      "698     S267     Поезд на Юг    0.864720\n",
      "258     P241  Звучность леса    0.839499\n",
      "287     P274  Лесенка в небо    0.835195\n",
      "74      E132   Матрёнин двор    0.831643\n",
      "\n",
      "🔸 Гибридные рекомендации:\n",
      "    story_id            title  similarity\n",
      "864     Р462       Без улыбок    0.927699\n",
      "698     S267      Поезд на Юг    0.417544\n",
      "805     Р388       Сын дерева    0.315643\n",
      "450     S013      Рассказ № 2    0.307885\n",
      "884     Р488  Мама не умирай…    0.296085\n"
     ]
    }
   ],
   "execution_count": 121
  }
 ],
 "metadata": {
  "kernelspec": {
   "display_name": "Python 3",
   "language": "python",
   "name": "python3"
  },
  "language_info": {
   "codemirror_mode": {
    "name": "ipython",
    "version": 2
   },
   "file_extension": ".py",
   "mimetype": "text/x-python",
   "name": "python",
   "nbconvert_exporter": "python",
   "pygments_lexer": "ipython2",
   "version": "2.7.6"
  }
 },
 "nbformat": 4,
 "nbformat_minor": 5
}
